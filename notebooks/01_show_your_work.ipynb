{
 "cells": [
  {
   "cell_type": "markdown",
   "id": "4zsa7cetldn",
   "metadata": {},
   "source": [
    "## Show your work!\n",
    "\n",
    "By the end of this tutorial, you'll be able to:\n",
    "\n",
    "- Choose the right Python framework for your specific needs\n",
    "- Build interactive dashboards **quickly** for your colleagues\n",
    "- Deploy applications that work reliably\n",
    "- Transform static analyses into engaging, explorable apps"
   ]
  },
  {
   "cell_type": "markdown",
   "id": "916d2a17-9df1-4ace-a959-cec906dd2774",
   "metadata": {},
   "source": [
    "# Show Your Work!\n",
    "*A Tutorial on Building Web Applications for Scientists and Researchers*\n",
    "\n",
    "## Inspiration\n",
    "\n",
    "The tutorial title draws inspiration from Austin Kleon's book \"Show your work\" and my own journey in web development. After building dozens of applications for research and industry, I've learned that the most impactful work is the work that gets shared, used, and built upon by others.\n",
    "\n",
    "Throughout this tutorial, I'll share examples from my app portfolio and show you exactly what you can expect to build—from simple data visualizations to interactive research tools that colleagues actually want to use.\n",
    "\n",
    "> *It sounds a little extreme, but in this day and age, if your work isn’t online, it doesn’t exist. We all have the opportunity to use our voices, to have our say, but so many of us are wasting it. If you want people to know about what you do and the things you care about, you have to share.*"
   ]
  },
  {
   "cell_type": "markdown",
   "id": "hlc92ywlphq",
   "metadata": {},
   "source": [
    "## Tutorial Focus: Research-Ready Applications\n",
    "\n",
    "This tutorial focuses on what I call **Research-Ready Applications**—the sweet spot between quick prototypes and enterprise software. These correspond to **Levels 0-2** in the web application maturity framework:\n",
    "\n",
    "### The 5 Levels of Web Application Maturity\n",
    "\n",
    "| Level | Description | Timeline | Users | Purpose |\n",
    "|-------|-------------|----------|-------|---------|\n",
    "| **0** | Exploratory Scripts | Hours-Days | 1 (you) | Personal analysis |\n",
    "| **1** | Hobby Projects | Days-Weeks | 1-5 | Learning, sharing with close colleagues |\n",
    "| **2** | Proof-of-Concept | Weeks-Months | 5-50 | Validate ideas, secure funding |\n",
    "| **3** | Internal Production | Months-Years | 50-500 | Regular use by research community |\n",
    "| **4** | Public Production | Years+ | 500+ | Serve broader scientific community |"
   ]
  },
  {
   "cell_type": "markdown",
   "id": "ckh2r00fa7",
   "metadata": {},
   "source": [
    "### Why focus on levels 0-2?\n",
    "\n",
    "**Every successful application starts here.** Even the most sophisticated research platforms (Levels 3-5) must first prove their value through effective prototypes. This tutorial teaches you to build applications that:\n",
    "\n",
    "- Demonstrate your ideas effectively\n",
    "- Convince stakeholders and collaborators  \n",
    "- Secure funding and support\n",
    "- Provide the foundation for larger projects\n",
    "\n",
    "### Two common mistakes to avoid\n",
    "\n",
    "**Over-engineering**: Building Level 4 infrastructure when you need Level 2 functionality\n",
    "- Don't spend months setting up Kubernetes clusters for a research demo\n",
    "- Avoid enterprise authentication systems for internal team tools\n",
    "- Skip complex databases when CSV files work fine\n",
    "\n",
    "**Under-engineering**: Using Level 1 tools when you have Level 3+ requirements  \n",
    "- Don't use Jupyter notebooks for department-wide dashboards\n",
    "- Avoid personal prototyping tools for external stakeholder presentations\n",
    "- Don't ignore security for applications handling sensitive data\n",
    "\n",
    "The key is **matching your tool to your actual needs**, not your aspirational requirements."
   ]
  },
  {
   "cell_type": "markdown",
   "id": "vv445pcn97m",
   "metadata": {},
   "source": [
    "## Web apps matter for your work\n",
    "\n",
    "Building web applications isn't just about coding; it's about **communication**. When you transform your analysis from a static report into an interactive experience, several powerful things happen:\n",
    "\n",
    "### **Inspires more communication, confidence, and trust**\n",
    "Interactive applications let stakeholders explore your work themselves. When colleagues can adjust parameters, filter data, and see results change in real-time, they develop deeper understanding and confidence in your methods.\n",
    "\n",
    "### **Speeds up your projects**  \n",
    "Instead of generating dozens of static plots for different scenarios, create one interactive dashboard that generates insights on demand. What used to take hours of back-and-forth emails now happens in minutes of exploration.\n",
    "\n",
    "### **Brings clarity of thought**\n",
    "Building an interface forces you to think clearly about your work—much like writing. You must organize your logic, anticipate user needs, and structure your analysis in ways that make sense to others. This process often reveals insights you missed in the original analysis.\n",
    "\n",
    "### **Increases accessibility and adoption**\n",
    "Web applications remove barriers to using your work. Colleagues don't need Python installed, don't need to understand your code, and don't need to recreate your environment. They just click a link and explore.\n",
    "\n",
    "> **Remember**: Work not shown is work lost. Showing your work in this context isn't about showing off—it's about better communication and broader impact."
   ]
  },
  {
   "cell_type": "code",
   "execution_count": null,
   "id": "1ca1c5f9-2dd1-485e-9213-6ce2ffd2256e",
   "metadata": {},
   "outputs": [],
   "source": []
  },
  {
   "cell_type": "markdown",
   "id": "2ec9a8fe-5c2c-442a-a780-3866c425db5f",
   "metadata": {},
   "source": [
    "## Summary\n",
    "\n",
    "**Work not seen is work lost.** In our interconnected research environment, the most brilliant analysis has no impact if it remains locked in personal notebooks or buried in static reports.\n",
    "\n",
    "Web applications aren't just tools—they're **trust builders**. When you make your work interactive and accessible, you invite collaboration, demonstrate transparency, and make it easy for others to build on your ideas.\n",
    "\n",
    "Your research deserves to be seen, understood, and used. Let's build applications that make that happen.\n",
    "\n",
    "---\n",
    "\n",
    "*Ready to transform your research from hidden work to shared impact? Let's start building.*"
   ]
  },
  {
   "cell_type": "markdown",
   "id": "9576d456",
   "metadata": {},
   "source": []
  }
 ],
 "metadata": {
  "kernelspec": {
   "display_name": "Python 3 (ipykernel)",
   "language": "python",
   "name": "python3"
  },
  "language_info": {
   "codemirror_mode": {
    "name": "ipython",
    "version": 3
   },
   "file_extension": ".py",
   "mimetype": "text/x-python",
   "name": "python",
   "nbconvert_exporter": "python",
   "pygments_lexer": "ipython3",
   "version": "3.13.3"
  }
 },
 "nbformat": 4,
 "nbformat_minor": 5
}
