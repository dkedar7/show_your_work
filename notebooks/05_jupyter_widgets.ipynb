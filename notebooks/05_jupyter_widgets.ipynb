{
 "cells": [
  {
   "cell_type": "markdown",
   "id": "b9b61e4f-b075-4d00-b6a1-c1d09526f132",
   "metadata": {},
   "source": [
    "# IPywidgets + Voila Tutorial\n",
    "\n",
    "This tutorial demonstrates how to create interactive Jupyter notebooks using ipywidgets and deploy them as web applications using Voila.\n",
    "\n",
    "## What are IPywidgets?\n",
    "\n",
    "IPywidgets are interactive HTML widgets for Jupyter notebooks and the IPython kernel. They allow you to build GUIs for your functions and make your data analysis more interactive and engaging.\n",
    "\n",
    "## What is Voila?\n",
    "\n",
    "Voila turns Jupyter notebooks into standalone web applications by running the notebook and serving only the output (hiding the code cells). It's perfect for sharing interactive dashboards and applications with non-technical users.\n",
    "\n",
    "## Installation\n",
    "\n",
    "First, install the required packages:\n",
    "\n",
    "```bash\n",
    "pip install ipywidgets voila matplotlib pandas numpy\n",
    "```\n",
    "\n",
    "For JupyterLab users, you may also need:\n",
    "```bash\n",
    "jupyter labextension install @jupyter-widgets/jupyterlab-manager\n",
    "```"
   ]
  },
  {
   "cell_type": "code",
   "execution_count": 2,
   "id": "490d84af-823e-4d3b-94f0-efadb0cf0f96",
   "metadata": {},
   "outputs": [],
   "source": [
    "import ipywidgets as widgets\n",
    "from IPython.display import display\n",
    "import numpy as np\n",
    "import matplotlib.pyplot as plt\n",
    "import pandas as pd\n",
    "\n",
    "# Enable inline plotting\n",
    "%matplotlib inline"
   ]
  },
  {
   "cell_type": "markdown",
   "id": "8a7efd22-b1a7-44b2-a168-b0b035734700",
   "metadata": {},
   "source": [
    "## Basic Widget Examples\n",
    "\n",
    "Let's start with some basic widget examples to understand how ipywidgets work."
   ]
  },
  {
   "cell_type": "markdown",
   "id": "0689046b-e327-4c73-965a-4c63af8af2e1",
   "metadata": {
    "panel-layout": {
     "height": 44.08203125,
     "visible": true,
     "width": 100
    }
   },
   "source": [
    "### Components"
   ]
  },
  {
   "cell_type": "code",
   "execution_count": 1,
   "id": "cb1ae51c-9118-439c-9e41-361e8b7bc970",
   "metadata": {},
   "outputs": [
    {
     "ename": "NameError",
     "evalue": "name 'widgets' is not defined",
     "output_type": "error",
     "traceback": [
      "\u001b[31m---------------------------------------------------------------------------\u001b[39m",
      "\u001b[31mNameError\u001b[39m                                 Traceback (most recent call last)",
      "\u001b[36mCell\u001b[39m\u001b[36m \u001b[39m\u001b[32mIn[1]\u001b[39m\u001b[32m, line 2\u001b[39m\n\u001b[32m      1\u001b[39m \u001b[38;5;66;03m# 1. Slider Widget\u001b[39;00m\n\u001b[32m----> \u001b[39m\u001b[32m2\u001b[39m slider = \u001b[43mwidgets\u001b[49m.IntSlider(\n\u001b[32m      3\u001b[39m     value=\u001b[32m50\u001b[39m,\n\u001b[32m      4\u001b[39m     \u001b[38;5;28mmin\u001b[39m=\u001b[32m0\u001b[39m,\n\u001b[32m      5\u001b[39m     \u001b[38;5;28mmax\u001b[39m=\u001b[32m100\u001b[39m\n\u001b[32m      6\u001b[39m )\n\u001b[32m      8\u001b[39m display(slider)\n",
      "\u001b[31mNameError\u001b[39m: name 'widgets' is not defined"
     ]
    }
   ],
   "source": [
    "# 1. Slider Widget\n",
    "slider = widgets.IntSlider(\n",
    "    value=50,\n",
    "    min=0,\n",
    "    max=100\n",
    ")\n",
    "\n",
    "display(slider)"
   ]
  },
  {
   "cell_type": "code",
   "execution_count": 6,
   "id": "ed95958a",
   "metadata": {},
   "outputs": [
    {
     "data": {
      "text/plain": [
       "72"
      ]
     },
     "execution_count": 6,
     "metadata": {},
     "output_type": "execute_result"
    }
   ],
   "source": [
    "slider.value"
   ]
  },
  {
   "cell_type": "code",
   "execution_count": null,
   "id": "c18228a3",
   "metadata": {},
   "outputs": [],
   "source": []
  },
  {
   "cell_type": "code",
   "execution_count": 6,
   "id": "tovg4rv7xci",
   "metadata": {},
   "outputs": [
    {
     "data": {
      "application/vnd.jupyter.widget-view+json": {
       "model_id": "0f9e7c702b444dcabd122aca7588047a",
       "version_major": 2,
       "version_minor": 0
      },
      "text/plain": [
       "Dropdown(description='Choose:', options=('Option 1', 'Option 2', 'Option 3'), value='Option 1')"
      ]
     },
     "metadata": {},
     "output_type": "display_data"
    }
   ],
   "source": [
    "# 2. Dropdown Widget\n",
    "dropdown = widgets.Dropdown(\n",
    "    options=['Option 1', 'Option 2', 'Option 3'],\n",
    "    value='Option 1',\n",
    "    description='Choose:',\n",
    "    disabled=False,\n",
    ")\n",
    "\n",
    "display(dropdown)"
   ]
  },
  {
   "cell_type": "code",
   "execution_count": 1,
   "id": "swt7hrtwvdp",
   "metadata": {},
   "outputs": [
    {
     "ename": "NameError",
     "evalue": "name 'widgets' is not defined",
     "output_type": "error",
     "traceback": [
      "\u001b[31m---------------------------------------------------------------------------\u001b[39m",
      "\u001b[31mNameError\u001b[39m                                 Traceback (most recent call last)",
      "\u001b[36mCell\u001b[39m\u001b[36m \u001b[39m\u001b[32mIn[1]\u001b[39m\u001b[32m, line 2\u001b[39m\n\u001b[32m      1\u001b[39m \u001b[38;5;66;03m# 3. Button Widget\u001b[39;00m\n\u001b[32m----> \u001b[39m\u001b[32m2\u001b[39m button = \u001b[43mwidgets\u001b[49m.Button(\n\u001b[32m      3\u001b[39m     description=\u001b[33m'\u001b[39m\u001b[33mClick me!\u001b[39m\u001b[33m'\u001b[39m,\n\u001b[32m      4\u001b[39m     disabled=\u001b[38;5;28;01mFalse\u001b[39;00m,\n\u001b[32m      5\u001b[39m     button_style=\u001b[33m'\u001b[39m\u001b[33msuccess\u001b[39m\u001b[33m'\u001b[39m, \u001b[38;5;66;03m# 'success', 'info', 'warning', 'danger' or ''\u001b[39;00m\n\u001b[32m      6\u001b[39m     tooltip=\u001b[33m'\u001b[39m\u001b[33mClick to trigger an action\u001b[39m\u001b[33m'\u001b[39m,\n\u001b[32m      7\u001b[39m     icon=\u001b[33m'\u001b[39m\u001b[33mcheck\u001b[39m\u001b[33m'\u001b[39m\n\u001b[32m      8\u001b[39m )\n\u001b[32m     10\u001b[39m output = widgets.Output()\n\u001b[32m     12\u001b[39m \u001b[38;5;28;01mdef\u001b[39;00m\u001b[38;5;250m \u001b[39m\u001b[34mon_button_clicked\u001b[39m(b):\n",
      "\u001b[31mNameError\u001b[39m: name 'widgets' is not defined"
     ]
    }
   ],
   "source": [
    "# 3. Button Widget\n",
    "button = widgets.Button(\n",
    "    description='Click me!',\n",
    "    disabled=False,\n",
    "    button_style='success', # 'success', 'info', 'warning', 'danger' or ''\n",
    "    tooltip='Click to trigger an action',\n",
    "    icon='check'\n",
    ")\n",
    "\n",
    "output = widgets.Output()\n",
    "\n",
    "def on_button_clicked(b):\n",
    "    with output:\n",
    "        print(\"Button clicked!\")\n",
    "\n",
    "button.on_click(on_button_clicked)\n",
    "\n",
    "display(button, output)"
   ]
  },
  {
   "cell_type": "code",
   "execution_count": 8,
   "id": "n8x63mge818",
   "metadata": {},
   "outputs": [
    {
     "data": {
      "application/vnd.jupyter.widget-view+json": {
       "model_id": "e6cdb5b2bcda493184a92ed82a18fe58",
       "version_major": 2,
       "version_minor": 0
      },
      "text/plain": [
       "Text(value='Hello World', description='Name:', placeholder='Type something')"
      ]
     },
     "metadata": {},
     "output_type": "display_data"
    }
   ],
   "source": [
    "# 4. Text Input Widget\n",
    "text_input = widgets.Text(\n",
    "    value='Hello World',\n",
    "    placeholder='Type something',\n",
    "    description='Name:',\n",
    "    disabled=False\n",
    ")\n",
    "\n",
    "display(text_input)"
   ]
  },
  {
   "cell_type": "markdown",
   "id": "0vkhmg4lm7l",
   "metadata": {},
   "source": [
    "## Interactive Data Visualization\n",
    "\n",
    "Now let's connect widgets to data visualization to create interactive plots."
   ]
  },
  {
   "cell_type": "code",
   "execution_count": 9,
   "id": "apvimw3hlfu",
   "metadata": {},
   "outputs": [
    {
     "data": {
      "application/vnd.jupyter.widget-view+json": {
       "model_id": "6d63155e584247b19278af8296c7ac76",
       "version_major": 2,
       "version_minor": 0
      },
      "text/plain": [
       "interactive(children=(FloatSlider(value=1.0, description='Frequency:', max=5.0, min=0.1), FloatSlider(value=1.…"
      ]
     },
     "metadata": {},
     "output_type": "display_data"
    }
   ],
   "source": [
    "# Interactive sine wave plot\n",
    "def plot_sine_wave(frequency=1, amplitude=1, phase=0):\n",
    "    x = np.linspace(0, 4*np.pi, 1000)\n",
    "    y = amplitude * np.sin(frequency * x + phase)\n",
    "    \n",
    "    plt.figure(figsize=(10, 6))\n",
    "    plt.plot(x, y, 'b-', linewidth=2)\n",
    "    plt.title(f'Sine Wave: A={amplitude}, f={frequency}, φ={phase}')\n",
    "    plt.xlabel('x')\n",
    "    plt.ylabel('y')\n",
    "    plt.grid(True, alpha=0.3)\n",
    "    plt.ylim(-3, 3)\n",
    "    plt.show()\n",
    "\n",
    "# Create interactive widgets\n",
    "freq_slider = widgets.FloatSlider(value=1, min=0.1, max=5, step=0.1, description='Frequency:')\n",
    "amp_slider = widgets.FloatSlider(value=1, min=0.1, max=3, step=0.1, description='Amplitude:')\n",
    "phase_slider = widgets.FloatSlider(value=0, min=0, max=2*np.pi, step=0.1, description='Phase:')\n",
    "\n",
    "# Use interact to connect widgets to function\n",
    "widgets.interact(plot_sine_wave, frequency=freq_slider, amplitude=amp_slider, phase=phase_slider);"
   ]
  },
  {
   "cell_type": "code",
   "execution_count": 10,
   "id": "bzaxoj0nvfn",
   "metadata": {},
   "outputs": [
    {
     "data": {
      "application/vnd.jupyter.widget-view+json": {
       "model_id": "5b8c442d0e5f4fa0b6eeae960b251e88",
       "version_major": 2,
       "version_minor": 0
      },
      "text/plain": [
       "interactive(children=(Dropdown(description='Category:', options=('All', 'A', 'B', 'C'), value='All'), IntSlide…"
      ]
     },
     "metadata": {},
     "output_type": "display_data"
    }
   ],
   "source": [
    "# Interactive scatter plot with dataset\n",
    "np.random.seed(42)\n",
    "data = pd.DataFrame({\n",
    "    'x': np.random.randn(200),\n",
    "    'y': np.random.randn(200),\n",
    "    'category': np.random.choice(['A', 'B', 'C'], 200)\n",
    "})\n",
    "\n",
    "def plot_scatter(category='All', point_size=50, alpha=0.7):\n",
    "    plt.figure(figsize=(10, 6))\n",
    "    \n",
    "    if category == 'All':\n",
    "        for cat in data['category'].unique():\n",
    "            mask = data['category'] == cat\n",
    "            plt.scatter(data[mask]['x'], data[mask]['y'], \n",
    "                       s=point_size, alpha=alpha, label=f'Category {cat}')\n",
    "    else:\n",
    "        mask = data['category'] == category\n",
    "        plt.scatter(data[mask]['x'], data[mask]['y'], \n",
    "                   s=point_size, alpha=alpha, label=f'Category {category}')\n",
    "    \n",
    "    plt.xlabel('X values')\n",
    "    plt.ylabel('Y values')\n",
    "    plt.title(f'Interactive Scatter Plot - {category}')\n",
    "    plt.legend()\n",
    "    plt.grid(True, alpha=0.3)\n",
    "    plt.show()\n",
    "\n",
    "# Interactive widgets for scatter plot\n",
    "category_dropdown = widgets.Dropdown(\n",
    "    options=['All', 'A', 'B', 'C'],\n",
    "    value='All',\n",
    "    description='Category:'\n",
    ")\n",
    "\n",
    "size_slider = widgets.IntSlider(\n",
    "    value=50,\n",
    "    min=10,\n",
    "    max=200,\n",
    "    step=10,\n",
    "    description='Point Size:'\n",
    ")\n",
    "\n",
    "alpha_slider = widgets.FloatSlider(\n",
    "    value=0.7,\n",
    "    min=0.1,\n",
    "    max=1.0,\n",
    "    step=0.1,\n",
    "    description='Transparency:'\n",
    ")\n",
    "\n",
    "widgets.interact(plot_scatter, category=category_dropdown, point_size=size_slider, alpha=alpha_slider);"
   ]
  },
  {
   "cell_type": "markdown",
   "id": "wd6q89n3mzg",
   "metadata": {},
   "source": [
    "## Deploying with Voila\n",
    "\n",
    "Now let's learn how to deploy this interactive notebook as a web application using Voila.\n",
    "\n",
    "### What happens when you use Voila?\n",
    "\n",
    "1. **Code cells are hidden** - Only the output (widgets and plots) are displayed\n",
    "2. **Interactive widgets still work** - Users can interact with sliders, buttons, etc.\n",
    "3. **No code editing** - Users can't modify or see the underlying code\n",
    "4. **Clean interface** - Professional-looking web application\n",
    "\n",
    "### Running Voila\n",
    "\n",
    "There are several ways to run Voila:"
   ]
  },
  {
   "cell_type": "markdown",
   "id": "lsty678h2kh",
   "metadata": {},
   "source": [
    "#### Method 1: Command Line\n",
    "\n",
    "Open terminal/command prompt and run:\n",
    "\n",
    "```bash\n",
    "# Basic usage - serve this notebook\n",
    "voila 03_ipywidgets_voila.ipynb\n",
    "\n",
    "# Serve all notebooks in current directory\n",
    "voila .\n",
    "\n",
    "# Customize port and host\n",
    "voila 03_ipywidgets_voila.ipynb --port=8867 --Voila.ip=0.0.0.0\n",
    "\n",
    "# Strip source code completely\n",
    "voila 03_ipywidgets_voila.ipynb --strip_sources=True\n",
    "```\n",
    "\n",
    "#### Method 2: From Jupyter Notebook/Lab\n",
    "\n",
    "1. Open this notebook in Jupyter\n",
    "2. Click the Voila button in the toolbar, or\n",
    "3. Go to File → Export Notebook As... → Export Notebook to Voila\n",
    "\n",
    "#### Method 3: Programmatically\n",
    "\n",
    "You can also launch Voila from Python code:"
   ]
  },
  {
   "cell_type": "code",
   "execution_count": null,
   "id": "lreliicgtnm",
   "metadata": {},
   "outputs": [],
   "source": [
    "# Example: Launch Voila programmatically (uncomment to run)\n",
    "# from voila.app import Voila\n",
    "# \n",
    "# app = Voila.instance()\n",
    "# app.notebook_path = '03_ipywidgets_voila.ipynb'\n",
    "# app.port = 8866\n",
    "# app.open_browser = True\n",
    "# app.start()"
   ]
  },
  {
   "cell_type": "markdown",
   "id": "yzcsagisbji",
   "metadata": {},
   "source": [
    "### Deployment Options\n",
    "\n",
    "#### Local Development\n",
    "- Perfect for prototyping and testing\n",
    "- Run `voila notebook.ipynb` and share the local URL\n",
    "\n",
    "#### Cloud Deployment\n",
    "Several options for deploying Voila apps to the cloud:\n",
    "\n",
    "1. **Heroku**\n",
    "   - Create a `requirements.txt` with your dependencies\n",
    "   - Add a `Procfile` with: `web: voila --port=$PORT --no-browser --Voila.ip=0.0.0.0 notebook.ipynb`\n",
    "\n",
    "2. **Binder**\n",
    "   - Push your notebook to GitHub\n",
    "   - Create Binder link: `https://mybinder.org/v2/gh/username/repo/main?urlpath=voila%2Frender%2Fnotebook.ipynb`\n",
    "\n",
    "3. **Docker**\n",
    "   ```dockerfile\n",
    "   FROM jupyter/scipy-notebook\n",
    "   COPY . /home/jovyan/\n",
    "   RUN pip install voila\n",
    "   EXPOSE 8866\n",
    "   CMD [\"voila\", \"notebook.ipynb\", \"--port=8866\", \"--no-browser\", \"--Voila.ip=0.0.0.0\"]\n",
    "   ```\n",
    "\n",
    "### Best Practices\n",
    "\n",
    "1. **Keep notebooks clean** - Remove unnecessary output and debugging code\n",
    "2. **Test interactivity** - Ensure all widgets work as expected\n",
    "3. **Optimize performance** - Minimize computation in widget callbacks\n",
    "4. **Add documentation** - Use markdown cells to explain the application\n",
    "5. **Handle errors gracefully** - Add try-catch blocks for robust applications"
   ]
  },
  {
   "cell_type": "markdown",
   "id": "c11grjphsr",
   "metadata": {},
   "source": [
    "## Try It Out!\n",
    "\n",
    "To test this tutorial:\n",
    "\n",
    "1. **Run the notebook**: Execute all cells to see the interactive widgets\n",
    "2. **Launch Voila**: Run `voila 03_ipywidgets_voila.ipynb` in your terminal\n",
    "3. **Compare**: Notice how Voila hides the code and shows only the interactive elements\n",
    "\n",
    "### Next Steps\n",
    "\n",
    "- Explore more widget types: `widgets.DatePicker`, `widgets.ColorPicker`, `widgets.FileUpload`\n",
    "- Learn about widget layouts: `widgets.HBox`, `widgets.VBox`, `widgets.Tab`\n",
    "- Try advanced features: custom styling, widget linking, and event handling\n",
    "- Build a complete dashboard combining multiple visualizations\n",
    "\n",
    "### Resources\n",
    "\n",
    "- [IPywidgets Documentation](https://ipywidgets.readthedocs.io/)\n",
    "- [Voila Documentation](https://voila.readthedocs.io/)\n",
    "- [Widget List](https://ipywidgets.readthedocs.io/en/stable/examples/Widget%20List.html)\n",
    "- [Voila Gallery](https://voila-gallery.org/)"
   ]
  }
 ],
 "metadata": {
  "kernelspec": {
   "display_name": "Python 3 (ipykernel)",
   "language": "python",
   "name": "python3"
  },
  "language_info": {
   "codemirror_mode": {
    "name": "ipython",
    "version": 3
   },
   "file_extension": ".py",
   "mimetype": "text/x-python",
   "name": "python",
   "nbconvert_exporter": "python",
   "pygments_lexer": "ipython3",
   "version": "3.13.3"
  },
  "panel-cell-order": [
   "7f0f1391-a1e1-494e-9911-495990d09d71",
   "07adf396-ba3a-417f-9cf7-912498d8803d",
   "0689046b-e327-4c73-965a-4c63af8af2e1"
  ]
 },
 "nbformat": 4,
 "nbformat_minor": 5
}
