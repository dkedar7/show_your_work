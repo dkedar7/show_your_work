{
 "cells": [
  {
   "cell_type": "markdown",
   "id": "b9b61e4f-b075-4d00-b6a1-c1d09526f132",
   "metadata": {},
   "source": [
    "# IPywidgets + Voila Tutorial\n",
    "\n",
    "This tutorial demonstrates how to create interactive Jupyter notebooks using ipywidgets and deploy them as web applications using Voila.\n",
    "\n",
    "## What are IPywidgets?\n",
    "\n",
    "IPywidgets are interactive HTML widgets for Jupyter notebooks and the IPython kernel. They allow you to build GUIs for your functions and make your data analysis more interactive and engaging.\n",
    "```"
   ]
  },
  {
   "cell_type": "code",
   "execution_count": 1,
   "id": "490d84af-823e-4d3b-94f0-efadb0cf0f96",
   "metadata": {},
   "outputs": [],
   "source": [
    "import ipywidgets as widgets\n",
    "from IPython.display import display\n",
    "import numpy as np\n",
    "import matplotlib.pyplot as plt\n",
    "import pandas as pd\n",
    "\n",
    "# Enable inline plotting\n",
    "%matplotlib inline"
   ]
  },
  {
   "cell_type": "markdown",
   "id": "8a7efd22-b1a7-44b2-a168-b0b035734700",
   "metadata": {},
   "source": [
    "## Basic Widget Examples\n",
    "\n",
    "Let's start with some basic widget examples to understand how ipywidgets work."
   ]
  },
  {
   "cell_type": "markdown",
   "id": "0689046b-e327-4c73-965a-4c63af8af2e1",
   "metadata": {
    "panel-layout": {
     "height": 44.08203125,
     "visible": true,
     "width": 100
    }
   },
   "source": [
    "### Components"
   ]
  },
  {
   "cell_type": "code",
   "execution_count": 2,
   "id": "cb1ae51c-9118-439c-9e41-361e8b7bc970",
   "metadata": {},
   "outputs": [
    {
     "data": {
      "application/vnd.jupyter.widget-view+json": {
       "model_id": "adab504d898449b98aefdc281edfd37b",
       "version_major": 2,
       "version_minor": 0
      },
      "text/plain": [
       "IntSlider(value=50)"
      ]
     },
     "metadata": {},
     "output_type": "display_data"
    }
   ],
   "source": [
    "# 1. Slider Widget\n",
    "slider = widgets.IntSlider(\n",
    "    value=50,\n",
    "    min=0,\n",
    "    max=100\n",
    ")\n",
    "\n",
    "display(slider)"
   ]
  },
  {
   "cell_type": "code",
   "execution_count": 3,
   "id": "ed95958a",
   "metadata": {},
   "outputs": [
    {
     "data": {
      "text/plain": [
       "50"
      ]
     },
     "execution_count": 3,
     "metadata": {},
     "output_type": "execute_result"
    }
   ],
   "source": [
    "slider.value"
   ]
  },
  {
   "cell_type": "code",
   "execution_count": null,
   "id": "c18228a3",
   "metadata": {},
   "outputs": [],
   "source": []
  },
  {
   "cell_type": "code",
   "execution_count": 4,
   "id": "tovg4rv7xci",
   "metadata": {},
   "outputs": [
    {
     "data": {
      "application/vnd.jupyter.widget-view+json": {
       "model_id": "a15f6bd912ad4ed89c146dded0991b2a",
       "version_major": 2,
       "version_minor": 0
      },
      "text/plain": [
       "Dropdown(description='Choose:', options=('Option 1', 'Option 2', 'Option 3'), value='Option 1')"
      ]
     },
     "metadata": {},
     "output_type": "display_data"
    }
   ],
   "source": [
    "# 2. Dropdown Widget\n",
    "dropdown = widgets.Dropdown(\n",
    "    options=['Option 1', 'Option 2', 'Option 3'],\n",
    "    value='Option 1',\n",
    "    description='Choose:',\n",
    "    disabled=False,\n",
    ")\n",
    "\n",
    "display(dropdown)"
   ]
  },
  {
   "cell_type": "code",
   "execution_count": 5,
   "id": "swt7hrtwvdp",
   "metadata": {},
   "outputs": [
    {
     "data": {
      "application/vnd.jupyter.widget-view+json": {
       "model_id": "fadb9c2fdc0449e2a917cd1bc85c320c",
       "version_major": 2,
       "version_minor": 0
      },
      "text/plain": [
       "Button(button_style='success', description='Click me!', icon='check', style=ButtonStyle(), tooltip='Click to t…"
      ]
     },
     "metadata": {},
     "output_type": "display_data"
    },
    {
     "data": {
      "application/vnd.jupyter.widget-view+json": {
       "model_id": "ba47219ce090432eaca65992706db38c",
       "version_major": 2,
       "version_minor": 0
      },
      "text/plain": [
       "Output()"
      ]
     },
     "metadata": {},
     "output_type": "display_data"
    }
   ],
   "source": [
    "# 3. Button Widget\n",
    "button = widgets.Button(\n",
    "    description='Click me!',\n",
    "    disabled=False,\n",
    "    button_style='success', # 'success', 'info', 'warning', 'danger' or ''\n",
    "    tooltip='Click to trigger an action',\n",
    "    icon='check'\n",
    ")\n",
    "\n",
    "output = widgets.Output()\n",
    "\n",
    "def on_button_clicked(b):\n",
    "    with output:\n",
    "        print(\"Button clicked!\")\n",
    "\n",
    "button.on_click(on_button_clicked)\n",
    "\n",
    "display(button, output)"
   ]
  },
  {
   "cell_type": "code",
   "execution_count": 6,
   "id": "n8x63mge818",
   "metadata": {},
   "outputs": [
    {
     "data": {
      "application/vnd.jupyter.widget-view+json": {
       "model_id": "6b85a95cccc743078ba11856d4434f1e",
       "version_major": 2,
       "version_minor": 0
      },
      "text/plain": [
       "Text(value='Hello World', description='Name:', placeholder='Type something')"
      ]
     },
     "metadata": {},
     "output_type": "display_data"
    }
   ],
   "source": [
    "# 4. Text Input Widget\n",
    "text_input = widgets.Text(\n",
    "    value='Hello World',\n",
    "    placeholder='Type something',\n",
    "    description='Name:',\n",
    "    disabled=False\n",
    ")\n",
    "\n",
    "display(text_input)"
   ]
  },
  {
   "cell_type": "markdown",
   "id": "0vkhmg4lm7l",
   "metadata": {},
   "source": [
    "## Interactive Data Visualization\n",
    "\n",
    "Now let's connect widgets to data visualization to create interactive plots."
   ]
  },
  {
   "cell_type": "code",
   "execution_count": 7,
   "id": "apvimw3hlfu",
   "metadata": {},
   "outputs": [
    {
     "data": {
      "application/vnd.jupyter.widget-view+json": {
       "model_id": "c825e8e3c50c45fbb9f4fd470916dd30",
       "version_major": 2,
       "version_minor": 0
      },
      "text/plain": [
       "interactive(children=(FloatSlider(value=1.0, description='Frequency:', max=5.0, min=0.1), FloatSlider(value=1.…"
      ]
     },
     "metadata": {},
     "output_type": "display_data"
    }
   ],
   "source": [
    "# Interactive sine wave plot\n",
    "def plot_sine_wave(frequency=1, amplitude=1, phase=0):\n",
    "    x = np.linspace(0, 4*np.pi, 1000)\n",
    "    y = amplitude * np.sin(frequency * x + phase)\n",
    "    \n",
    "    plt.figure(figsize=(10, 6))\n",
    "    plt.plot(x, y, 'b-', linewidth=2)\n",
    "    plt.title(f'Sine Wave: A={amplitude}, f={frequency}, φ={phase}')\n",
    "    plt.xlabel('x')\n",
    "    plt.ylabel('y')\n",
    "    plt.grid(True, alpha=0.3)\n",
    "    plt.ylim(-3, 3)\n",
    "    plt.show()\n",
    "\n",
    "# Create interactive widgets\n",
    "freq_slider = widgets.FloatSlider(value=1, min=0.1, max=5, step=0.1, description='Frequency:')\n",
    "amp_slider = widgets.FloatSlider(value=1, min=0.1, max=3, step=0.1, description='Amplitude:')\n",
    "phase_slider = widgets.FloatSlider(value=0, min=0, max=2*np.pi, step=0.1, description='Phase:')\n",
    "\n",
    "# Use interact to connect widgets to function\n",
    "widgets.interact(plot_sine_wave, frequency=freq_slider, amplitude=amp_slider, phase=phase_slider);"
   ]
  },
  {
   "cell_type": "code",
   "execution_count": 8,
   "id": "bzaxoj0nvfn",
   "metadata": {},
   "outputs": [
    {
     "data": {
      "application/vnd.jupyter.widget-view+json": {
       "model_id": "0f45c4383fa247c6a6f9e7e5322921fa",
       "version_major": 2,
       "version_minor": 0
      },
      "text/plain": [
       "interactive(children=(Dropdown(description='Category:', options=('All', 'A', 'B', 'C'), value='All'), IntSlide…"
      ]
     },
     "metadata": {},
     "output_type": "display_data"
    }
   ],
   "source": [
    "# Interactive scatter plot with dataset\n",
    "np.random.seed(42)\n",
    "data = pd.DataFrame({\n",
    "    'x': np.random.randn(200),\n",
    "    'y': np.random.randn(200),\n",
    "    'category': np.random.choice(['A', 'B', 'C'], 200)\n",
    "})\n",
    "\n",
    "def plot_scatter(category='All', point_size=50, alpha=0.7):\n",
    "    plt.figure(figsize=(10, 6))\n",
    "    \n",
    "    if category == 'All':\n",
    "        for cat in data['category'].unique():\n",
    "            mask = data['category'] == cat\n",
    "            plt.scatter(data[mask]['x'], data[mask]['y'], \n",
    "                       s=point_size, alpha=alpha, label=f'Category {cat}')\n",
    "    else:\n",
    "        mask = data['category'] == category\n",
    "        plt.scatter(data[mask]['x'], data[mask]['y'], \n",
    "                   s=point_size, alpha=alpha, label=f'Category {category}')\n",
    "    \n",
    "    plt.xlabel('X values')\n",
    "    plt.ylabel('Y values')\n",
    "    plt.title(f'Interactive Scatter Plot - {category}')\n",
    "    plt.legend()\n",
    "    plt.grid(True, alpha=0.3)\n",
    "    plt.show()\n",
    "\n",
    "# Interactive widgets for scatter plot\n",
    "category_dropdown = widgets.Dropdown(\n",
    "    options=['All', 'A', 'B', 'C'],\n",
    "    value='All',\n",
    "    description='Category:'\n",
    ")\n",
    "\n",
    "size_slider = widgets.IntSlider(\n",
    "    value=50,\n",
    "    min=10,\n",
    "    max=200,\n",
    "    step=10,\n",
    "    description='Point Size:'\n",
    ")\n",
    "\n",
    "alpha_slider = widgets.FloatSlider(\n",
    "    value=0.7,\n",
    "    min=0.1,\n",
    "    max=1.0,\n",
    "    step=0.1,\n",
    "    description='Transparency:'\n",
    ")\n",
    "\n",
    "widgets.interact(plot_scatter, category=category_dropdown, point_size=size_slider, alpha=alpha_slider);"
   ]
  },
  {
   "cell_type": "markdown",
   "id": "c11grjphsr",
   "metadata": {},
   "source": [
    "## Try It Out!\n",
    "\n",
    "### Check out\n",
    "\n",
    "- Explore more widget types: `widgets.DatePicker`, `widgets.ColorPicker`, `widgets.FileUpload`\n",
    "- Learn about widget layouts: `widgets.HBox`, `widgets.VBox`, `widgets.Tab`\n",
    "- Try advanced features: custom styling, widget linking, and event handling\n",
    "- Build a complete dashboard combining multiple visualizations\n",
    "\n",
    "### Resources\n",
    "\n",
    "- [IPywidgets Documentation](https://ipywidgets.readthedocs.io/)\n",
    "- [Voila Documentation](https://voila.readthedocs.io/)\n",
    "- [Widget List](https://ipywidgets.readthedocs.io/en/stable/examples/Widget%20List.html)\n",
    "- [Voila Gallery](https://voila-gallery.org/)"
   ]
  },
  {
   "cell_type": "code",
   "execution_count": null,
   "id": "c90c630e-b0f0-468b-9894-ed556423bdaa",
   "metadata": {},
   "outputs": [],
   "source": []
  }
 ],
 "metadata": {
  "kernelspec": {
   "display_name": "showyourwork",
   "language": "python",
   "name": "showyourwork"
  },
  "language_info": {
   "codemirror_mode": {
    "name": "ipython",
    "version": 3
   },
   "file_extension": ".py",
   "mimetype": "text/x-python",
   "name": "python",
   "nbconvert_exporter": "python",
   "pygments_lexer": "ipython3",
   "version": "3.13.3"
  },
  "panel-cell-order": [
   "7f0f1391-a1e1-494e-9911-495990d09d71",
   "07adf396-ba3a-417f-9cf7-912498d8803d",
   "0689046b-e327-4c73-965a-4c63af8af2e1"
  ]
 },
 "nbformat": 4,
 "nbformat_minor": 5
}
