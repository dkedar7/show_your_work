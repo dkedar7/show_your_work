{
 "cells": [
  {
   "cell_type": "markdown",
   "id": "c44fc7c9-6610-4c9d-b932-a816fed63ab6",
   "metadata": {},
   "source": [
    "# Quarto\n",
    "\n",
    "## What is Quarto?\n",
    "\n",
    "Quarto is an open-source scientific and technical publishing system built on Pandoc. It allows you to create beautiful documents, websites, presentations, and books from plain text markdown files with embedded code.\n",
    "\n",
    "## Why Quarto for Web Applications?\n",
    "\n",
    "- **Multi-language support**: Python, R, Julia, Observable JS\n",
    "- **Beautiful output**: Professional-looking websites and documents\n",
    "- **Easy deployment**: Built-in support for GitHub Pages, Netlify, and more\n",
    "- **Scientific publishing**: Perfect for academic and research content"
   ]
  },
  {
   "cell_type": "markdown",
   "id": "f2dfxtmigc4",
   "metadata": {},
   "source": [
    "## Installation\n",
    "\n",
    "### Option 1: Download from Website (Recommended)\n",
    "1. Visit [quarto.org](https://quarto.org/docs/get-started/)\n",
    "2. Download the installer for your operating system\n",
    "3. Run the installer\n",
    "\n",
    "### Option 2: Using Package Managers\n",
    "```bash\n",
    "# macOS with Homebrew\n",
    "brew install quarto\n",
    "\n",
    "# Windows with Chocolatey\n",
    "choco install quarto\n",
    "\n",
    "# Linux with snap\n",
    "sudo snap install quarto\n",
    "```\n",
    "\n",
    "### Verify Installation"
   ]
  },
  {
   "cell_type": "code",
   "execution_count": 1,
   "id": "y6minflqsr",
   "metadata": {},
   "outputs": [
    {
     "name": "stdout",
     "output_type": "stream",
     "text": [
      "1.7.32\n"
     ]
    }
   ],
   "source": [
    "!quarto --version"
   ]
  },
  {
   "cell_type": "markdown",
   "id": "0ccpo899pkd",
   "metadata": {},
   "source": [
    "## Creating a Simple Listing Website\n",
    "\n",
    "A listing website is perfect for showcasing projects, blog posts, or any collection of content. Let's create one step by step.\n",
    "\n",
    "### Step 1: Create Project Structure"
   ]
  },
  {
   "cell_type": "code",
   "execution_count": 1,
   "id": "49818611-9bd3-4373-80d9-7c4dc28296a3",
   "metadata": {},
   "outputs": [],
   "source": [
    "# Create a new directory for our Quarto website\n",
    "import os\n",
    "os.makedirs('my_portfolio', exist_ok=True)\n",
    "os.chdir('my_portfolio')"
   ]
  },
  {
   "cell_type": "code",
   "execution_count": 2,
   "id": "mntwqu5izsh",
   "metadata": {},
   "outputs": [
    {
     "name": "stdout",
     "output_type": "stream",
     "text": [
      "Writing _quarto.yml\n"
     ]
    }
   ],
   "source": [
    "%%writefile _quarto.yml\n",
    "\n",
    "project:\n",
    "  type: website\n",
    "\n",
    "website:\n",
    "  title: \"My web app store\"\n",
    "  navbar:\n",
    "    left:\n",
    "      - href: index.qmd\n",
    "        text: Home\n",
    "\n",
    "format:\n",
    "  html:\n",
    "    theme: cosmo"
   ]
  },
  {
   "cell_type": "markdown",
   "id": "4qaexkn3rgy",
   "metadata": {},
   "source": [
    "### Step 2: Create the Home Page"
   ]
  },
  {
   "cell_type": "code",
   "execution_count": 10,
   "id": "632391cf-2264-4670-8981-0f0501cb8c4d",
   "metadata": {},
   "outputs": [
    {
     "name": "stdout",
     "output_type": "stream",
     "text": [
      "Overwriting index.qmd\n"
     ]
    }
   ],
   "source": [
    "%%writefile index.qmd\n",
    "\n",
    "---\n",
    "title: \"Welcome to the web app marketplace!\"\n",
    "\n",
    "listing:\n",
    "  contents: projects.yml\n",
    "  sort: \"date desc\"\n",
    "  type: grid\n",
    "  categories: true\n",
    "  sort-ui: false\n",
    "  filter-ui: false\n",
    "\n",
    "page-layout: article\n",
    "format: \n",
    "  html:\n",
    "    page-layout: full\n",
    "\n",
    "---\n",
    "\n",
    "## About this space\n",
    "\n",
    "This is the space where I turn my ideas into interactive web applications. \n",
    "Please feel free to click around and see what you like. If you'd like to collaborate, please [email me](example@email.com) at or connect with me on [LinkedIn](https://linkedin.com/).\n",
    "\n",
    "## Web applications"
   ]
  },
  {
   "cell_type": "markdown",
   "id": "xid9tcshiwd",
   "metadata": {},
   "source": [
    "### Step 3: Create sample project lists"
   ]
  },
  {
   "cell_type": "code",
   "execution_count": 4,
   "id": "2bcdaa79-8a82-46bb-b7cb-a842d6fa4eb7",
   "metadata": {},
   "outputs": [],
   "source": [
    "# Create posts directory and sample projects\n",
    "os.makedirs('posts', exist_ok=True)"
   ]
  },
  {
   "cell_type": "code",
   "execution_count": 5,
   "id": "lyaijg5eiaa",
   "metadata": {},
   "outputs": [
    {
     "name": "stdout",
     "output_type": "stream",
     "text": [
      "Writing projects.yml\n"
     ]
    }
   ],
   "source": [
    "%%writefile projects.yml\n",
    "\n",
    "- title: \"Watersat: Estimating Water Quality Using Landsat satellites\"\n",
    "  description: Integrating Water Quality Portal with Landsat to estimate Chlorophyll-a in Inland Surface Waters of New York State\n",
    "  path: https://watersat-hpn4y2dvda-ue.a.run.app/\n",
    "  image: https://dkedar.com/assets/project_watersat.png\n",
    "  date: 2024-06-24\n",
    "  categories: [Highlighted, ML, Environment]\n",
    "\n",
    "- title: \"Water Spectral Indices Map\"\n",
    "  description: Visualize selected water spectral indices using Landsat imagery from Google Earth Engine.\n",
    "  path: https://waterspectralindices-hpn4y2dvda-ue.a.run.app/\n",
    "  image: https://dkedar.com/assets/project_spectralindices.png\n",
    "  date: 2023-10-06\n",
    "  categories: [Environment, Fast Dash]"
   ]
  },
  {
   "cell_type": "markdown",
   "id": "xzxh3cqq6j",
   "metadata": {},
   "source": [
    "### Step 4: Build and Preview Your Website"
   ]
  },
  {
   "cell_type": "code",
   "execution_count": 6,
   "id": "gra4hspcv0b",
   "metadata": {},
   "outputs": [
    {
     "name": "stdout",
     "output_type": "stream",
     "text": [
      "\u001b[1mpandoc \u001b[22m\n",
      "  to: html\n",
      "  output-file: index.html\n",
      "  standalone: true\n",
      "  title-prefix: My web app store\n",
      "  section-divs: true\n",
      "  html-math-method: mathjax\n",
      "  wrap: none\n",
      "  default-image-extension: png\n",
      "  variables: {}\n",
      "  \n",
      "\u001b[1mmetadata\u001b[22m\n",
      "  document-css: false\n",
      "  link-citations: true\n",
      "  date-format: long\n",
      "  lang: en\n",
      "  theme: cosmo\n",
      "  title: Welcome to the web app marketplace!\n",
      "  listing:\n",
      "    contents: projects.yml\n",
      "    sort: date desc\n",
      "    type: grid\n",
      "    categories: true\n",
      "    sort-ui: false\n",
      "    filter-ui: false\n",
      "  page-layout: full\n",
      "  \n",
      "Output created: _site/index.html\n",
      "\n"
     ]
    }
   ],
   "source": [
    "# Build the website\n",
    "!quarto render"
   ]
  },
  {
   "cell_type": "code",
   "execution_count": 7,
   "id": "z5xr1w5xwx",
   "metadata": {},
   "outputs": [
    {
     "name": "stdout",
     "output_type": "stream",
     "text": [
      "\u001b[1m\u001b[34mPreparing to preview\u001b[39m\u001b[22m\n",
      "\n",
      "\u001b[32mWatching files for changes\u001b[39m\n",
      "\u001b[32mBrowse at \u001b[39m\u001b[4m\u001b[32mhttp://localhost:3141/\u001b[39m\u001b[24m\n",
      "\u001b[32mGET: /\u001b[39m\n",
      "^C\n"
     ]
    }
   ],
   "source": [
    "# Preview the website locally\n",
    "!quarto preview"
   ]
  },
  {
   "cell_type": "code",
   "execution_count": null,
   "id": "c7da237b-22b3-4a0c-8f7a-3c4d51f5444d",
   "metadata": {},
   "outputs": [],
   "source": []
  },
  {
   "cell_type": "markdown",
   "id": "c4r4bkvejjq",
   "metadata": {},
   "source": [
    "## Deployment Options\n",
    "\n",
    "### GitHub Pages\n",
    "```bash\n",
    "quarto publish gh-pages\n",
    "```\n",
    "\n",
    "### Netlify\n",
    "```bash\n",
    "quarto publish netlify\n",
    "```\n",
    "\n",
    "### Quarto Pub (Free hosting)\n",
    "```bash\n",
    "quarto publish quarto-pub\n",
    "```\n",
    "\n",
    "## Key Takeaways\n",
    "\n",
    "1. **Easy Setup**: Quarto websites require minimal configuration\n",
    "2. **Automatic Listings**: The `listing` feature automatically generates project galleries\n",
    "3. **Professional Look**: Built-in themes provide polished appearance\n",
    "4. **Flexible Content**: Mix markdown, code, and multimedia content\n",
    "5. **Simple Deployment**: One-command publishing to various platforms\n",
    "\n",
    "**Time to create**: ~5 minutes  \n",
    "**Time to customize**: As long as you want!"
   ]
  },
  {
   "cell_type": "code",
   "execution_count": 8,
   "id": "3b78482b-da6e-4118-b509-690b61ce4910",
   "metadata": {},
   "outputs": [
    {
     "name": "stdout",
     "output_type": "stream",
     "text": [
      "\u001b[33m? \u001b[39m\u001b[1mPublish site to https://dkedar7.github.io/show_your_work/ using gh-pages?\u001b[22m\u001b[2m (Y/n)\u001b[22m \u001b[94m›\u001b[39m \u001b[4m\u001b[24m\u001b[2m\u001b[22m\u001b[1A\u001b[85G\u001b[G\u001b[0J\u001b[?25h"
     ]
    }
   ],
   "source": [
    "# !quarto publish"
   ]
  },
  {
   "cell_type": "code",
   "execution_count": null,
   "id": "d2a4a249-cb7a-455f-b8d8-e636cc0e6037",
   "metadata": {},
   "outputs": [],
   "source": []
  }
 ],
 "metadata": {
  "kernelspec": {
   "display_name": "Python 3 (ipykernel)",
   "language": "python",
   "name": "python3"
  },
  "language_info": {
   "codemirror_mode": {
    "name": "ipython",
    "version": 3
   },
   "file_extension": ".py",
   "mimetype": "text/x-python",
   "name": "python",
   "nbconvert_exporter": "python",
   "pygments_lexer": "ipython3",
   "version": "3.13.3"
  }
 },
 "nbformat": 4,
 "nbformat_minor": 5
}
