{
 "cells": [
  {
   "cell_type": "markdown",
   "id": "7f0f1391-a1e1-494e-9911-495990d09d71",
   "metadata": {
    "panel-layout": {
     "height": 50.8203125,
     "visible": true,
     "width": 100
    }
   },
   "source": [
    "## Jupyter notebooks"
   ]
  },
  {
   "cell_type": "markdown",
   "id": "bad4e04a-5204-444c-b3cd-fb5a708e9a25",
   "metadata": {},
   "source": [
    "Documentation: https://docs.jupyter.org/en/latest/"
   ]
  },
  {
   "cell_type": "markdown",
   "id": "c4b22695-64f4-42c0-8db4-96ca08ce9e20",
   "metadata": {},
   "source": [
    "Jupyter notebooks may easily be the most deployed type of web application in Python!\n",
    "\n",
    "<img src=\"https://jupyter.org/assets/homepage/main-logo.svg\" alt=\"Jupyter Logo\" width=\"200\"/>"
   ]
  },
  {
   "cell_type": "markdown",
   "id": "66428e3f-903d-4652-8037-32a43ebc72bf",
   "metadata": {
    "vscode": {
     "languageId": "markdown"
    }
   },
   "source": [
    "Jupyter notebooks support two main types of cells:\n",
    "\n",
    "- **Code Cells**: Used to write and execute code (e.g., Python, R). The output appears directly below the cell.\n",
    "- **Markdown Cells**: Used for formatted text, documentation, equations (LaTeX), images, and links.\n",
    "- **Raw Cells**: Contain plain text that is not executed or rendered as Markdown. Useful for notes, instructions, or content to be processed by external tools.\n",
    "\n",
    "You can switch between cell types using the toolbar or keyboard shortcuts."
   ]
  },
  {
   "cell_type": "markdown",
   "id": "049d98ca-daeb-49d4-9b0d-a964c3bd531f",
   "metadata": {
    "vscode": {
     "languageId": "markdown"
    }
   },
   "source": [
    "#### Jupyter Server and Kernel\n",
    "\n",
    "- **Jupyter Server**: The Jupyter server is the backend application that manages your notebooks, files, and computational resources. It provides the web interface, handles requests from your browser, and communicates with kernels to execute code. When you start Jupyter Notebook or JupyterLab, you are launching a Jupyter server.\n",
    "\n",
    "- **Kernel**: A kernel is a separate process that runs and executes your code. Each notebook is connected to a kernel, which can be for different programming languages (e.g., Python, R, Julia). The kernel receives code from the notebook interface, executes it, and returns the output (results, plots, errors) back to the notebook.\n",
    "\n",
    "**How they work together:**  \n",
    "When you run a code cell in a notebook, the Jupyter server sends the code to the kernel. The kernel executes the code and sends the output back to the server, which then displays it in your browser."
   ]
  },
  {
   "cell_type": "code",
   "execution_count": null,
   "id": "a5751756",
   "metadata": {},
   "outputs": [],
   "source": []
  },
  {
   "cell_type": "markdown",
   "id": "958ff6dd",
   "metadata": {},
   "source": [
    "#### Understanding the available datasets"
   ]
  },
  {
   "cell_type": "markdown",
   "id": "f8c65b47",
   "metadata": {},
   "source": [
    "##### 1. Penguins datset\n",
    "\n",
    "- The penguins dataset contains measurements for three species of penguins (Adelie, Chinstrap, Gentoo) observed on different islands in the Palmer Archipelago, Antarctica.\n",
    "- It includes features such as bill length and depth, flipper length, body mass, sex, and species.\n",
    "- This dataset is commonly used for data visualization and machine learning exercises as an alternative to the classic iris dataset.\n",
    "- It provides a real-world example for exploring classification, visualization, and data cleaning techniques."
   ]
  },
  {
   "cell_type": "code",
   "execution_count": null,
   "id": "5af77db1",
   "metadata": {},
   "outputs": [],
   "source": [
    "import pandas as pd\n",
    "import matplotlib.pyplot as plt\n",
    "import seaborn as sns"
   ]
  },
  {
   "cell_type": "code",
   "execution_count": null,
   "id": "72f45ab5",
   "metadata": {},
   "outputs": [],
   "source": [
    "# Load and explore the penguins dataset\n",
    "penguins = pd.read_csv('data/penguins.csv')\n",
    "\n",
    "# Show the first few rows\n",
    "display(penguins.head())\n",
    "\n",
    "# Show basic info\n",
    "penguins.info()\n",
    "\n",
    "# Show summary statistics\n",
    "display(penguins.describe(include='all'))"
   ]
  },
  {
   "cell_type": "code",
   "execution_count": null,
   "id": "364c79ee",
   "metadata": {},
   "outputs": [],
   "source": [
    "# Histogram of bill length using seaborn\n",
    "sns.histplot(penguins['bill_length_mm'], bins=30, kde=True, edgecolor='black')\n",
    "plt.title('Bill Length Distribution')\n",
    "plt.xlabel('Bill Length (mm)')\n",
    "plt.ylabel('Frequency')\n",
    "plt.show()\n",
    "\n",
    "# Boxplot of body mass by species using seaborn\n",
    "sns.boxplot(x='species', y='body_mass_g', data=penguins)\n",
    "plt.title('Body Mass by Species')\n",
    "plt.xlabel('Species')\n",
    "plt.ylabel('Body Mass (g)')\n",
    "plt.show()\n",
    "\n",
    "# Scatter plot: bill length vs flipper length, colored by species using seaborn\n",
    "sns.scatterplot(\n",
    "    data=penguins,\n",
    "    x='bill_length_mm',\n",
    "    y='flipper_length_mm',\n",
    "    hue='species',\n",
    "    alpha=0.7\n",
    ")\n",
    "plt.title('Bill Length vs Flipper Length by Species')\n",
    "plt.xlabel('Bill Length (mm)')\n",
    "plt.ylabel('Flipper Length (mm)')\n",
    "plt.legend(title='Species')\n",
    "plt.show()"
   ]
  },
  {
   "cell_type": "code",
   "execution_count": null,
   "id": "135ecbd5",
   "metadata": {},
   "outputs": [],
   "source": []
  },
  {
   "cell_type": "markdown",
   "id": "2741ccd9",
   "metadata": {
    "vscode": {
     "languageId": "markdown"
    }
   },
   "source": [
    "##### 2. Car Crashes Dataset\n",
    "\n",
    "- The car crashes dataset contains data on traffic accidents, including the number of crashes, injuries, and fatalities by state or region.\n",
    "- It typically includes features such as total crashes, alcohol-involved crashes, speeding-related crashes, and population statistics.\n",
    "- This dataset is widely used for data visualization, exploratory data analysis, and statistical modeling to understand factors contributing to road accidents.\n",
    "- It provides a practical example for learning about correlation, regression, and geospatial analysis in Python."
   ]
  },
  {
   "cell_type": "code",
   "execution_count": null,
   "id": "a873b7d1",
   "metadata": {},
   "outputs": [],
   "source": [
    "# Load and explore the penguins dataset\n",
    "car_crashes = pd.read_csv('data/car_crashes.csv')\n",
    "\n",
    "# Show the first few rows\n",
    "display(car_crashes.head())\n",
    "\n",
    "# Show basic info\n",
    "car_crashes.info()\n",
    "\n",
    "# Show summary statistics\n",
    "display(car_crashes.describe(include='all'))"
   ]
  },
  {
   "cell_type": "code",
   "execution_count": null,
   "id": "d7711015",
   "metadata": {},
   "outputs": [],
   "source": [
    "sns.histplot(car_crashes['total'], bins=15, kde=True, edgecolor='black')\n",
    "plt.title('Distribution of Total Car Crashes per State')\n",
    "plt.xlabel('Total Crashes')\n",
    "plt.ylabel('Frequency')\n",
    "# plt.show()"
   ]
  },
  {
   "cell_type": "code",
   "execution_count": null,
   "id": "0e0f8f76",
   "metadata": {},
   "outputs": [],
   "source": [
    "# Boxplot of insurance losses by state abbreviation\n",
    "# Draw a map of insurance losses by state using plotly\n",
    "import plotly.express as px\n",
    "\n",
    "fig = px.choropleth(\n",
    "    car_crashes,\n",
    "    locations='abbrev',\n",
    "    locationmode='USA-states',\n",
    "    color='ins_losses',\n",
    "    color_continuous_scale='Reds',\n",
    "    scope='usa',\n",
    "    labels={'ins_losses': 'Insurance Losses'},\n",
    "    title='Insurance Losses by State (USA)'\n",
    ")\n",
    "fig.show()"
   ]
  },
  {
   "cell_type": "code",
   "execution_count": null,
   "id": "d87ec252",
   "metadata": {},
   "outputs": [],
   "source": [
    "# Scatter plot: insurance premium vs insurance losses, colored by speeding rate\n",
    "plt.figure(figsize=(10, 6))\n",
    "sns.scatterplot(\n",
    "    data=car_crashes,\n",
    "    x='ins_premium',\n",
    "    y='ins_losses',\n",
    "    size='speeding',\n",
    "    hue='speeding',\n",
    "    palette='viridis',\n",
    "    sizes=(20, 200),\n",
    "    alpha=0.7\n",
    ")\n",
    "plt.title('Insurance Premium vs Losses (Size/Color: Speeding Rate)')\n",
    "plt.xlabel('Insurance Premium')\n",
    "plt.ylabel('Insurance Losses')\n",
    "plt.legend(title='Speeding Rate', bbox_to_anchor=(1.05, 1), loc='upper left')\n",
    "plt.show()"
   ]
  },
  {
   "cell_type": "code",
   "execution_count": null,
   "id": "ef5083ff",
   "metadata": {},
   "outputs": [],
   "source": [
    "# Pairplot to explore relationships between numeric variables\n",
    "sns.pairplot(car_crashes[['total', 'speeding', 'alcohol', 'ins_premium', 'ins_losses']])\n",
    "plt.suptitle('Pairplot of Car Crashes Numeric Features', y=1.02)\n",
    "plt.show()"
   ]
  },
  {
   "cell_type": "code",
   "execution_count": null,
   "id": "22968393",
   "metadata": {},
   "outputs": [],
   "source": []
  },
  {
   "cell_type": "markdown",
   "id": "c3971538",
   "metadata": {},
   "source": [
    "#### 3. Chlorophyll Concentration Analysis"
   ]
  },
  {
   "cell_type": "markdown",
   "id": "235eef18",
   "metadata": {},
   "source": [
    "The `data/chla_subset.csv` dataset contains chlorophyll-a (chla) predictions for various water bodies, such as lakes and reservoirs. Each row represents a measurement event, including the following columns:\n",
    "\n",
    "- `gnis_name`: Name of the water body (e.g., \"Pepacton Reservoir\", \"Lake Montauk\").\n",
    "- `comid`: Unique identifier for the water body.\n",
    "- `centroid_longitude` and `centroid_latitude`: Geographic coordinates of the water body's centroid.\n",
    "- `date_acquired`: Date when the measurement or prediction was made.\n",
    "- `predictions`: Predicted chlorophyll-a concentration (likely in µg/L).\n",
    "\n",
    "This dataset is useful for analyzing spatial and temporal patterns of chlorophyll-a, which is an important indicator of water quality and algal biomass."
   ]
  },
  {
   "cell_type": "code",
   "execution_count": null,
   "id": "8d138dba",
   "metadata": {},
   "outputs": [],
   "source": [
    "# Load and describe the chla dataset\n",
    "chla = pd.read_csv('data/chla_subset.csv')\n",
    "\n",
    "# Show the first few rows\n",
    "display(chla.head())\n",
    "\n",
    "# Show basic info\n",
    "chla.info()\n",
    "\n",
    "# Show summary statistics\n",
    "display(chla.describe(include='all'))"
   ]
  },
  {
   "cell_type": "code",
   "execution_count": null,
   "id": "cf8dda2e",
   "metadata": {},
   "outputs": [],
   "source": [
    "chla['predictions'].plot.hist(bins=30, edgecolor='black')\n",
    "plt.axvline(x=10, color='red', linestyle='--', label='Acceptable Value')\n",
    "plt.title('Distribution of Chlorophyll-a Predictions')\n",
    "plt.xlabel('Chlorophyll-a (µg/L)')\n",
    "plt.ylabel('Frequency')\n",
    "plt.legend()\n",
    "plt.show()"
   ]
  },
  {
   "cell_type": "code",
   "execution_count": null,
   "id": "d5a906c4",
   "metadata": {},
   "outputs": [],
   "source": []
  },
  {
   "cell_type": "markdown",
   "id": "ecaacb88",
   "metadata": {},
   "source": [
    "### Introducing Voila!"
   ]
  },
  {
   "cell_type": "markdown",
   "id": "04d515fd-1560-4839-a44b-0711faf15f86",
   "metadata": {},
   "source": [
    "Voila turns Jupyter notebooks into standalone web applications by running the notebook and serving only the output (hiding the code cells). It's perfect for sharing interactive dashboards and applications with non-technical users."
   ]
  },
  {
   "cell_type": "markdown",
   "id": "2d7b61c7-87f3-4b81-b9ad-f584c5bf2ee4",
   "metadata": {},
   "source": [
    "#### Deploying with Voila\n",
    "\n",
    "Now let's learn how to deploy this interactive notebook as a web application using Voila.\n",
    "\n",
    "### What happens when you use Voila?\n",
    "\n",
    "1. **Code cells are hidden** - Only the output (widgets and plots) are displayed\n",
    "2. **Interactive widgets still work** - Users can interact with sliders, buttons, etc.\n",
    "3. **No code editing** - Users can't modify or see the underlying code\n",
    "4. **Clean interface** - Professional-looking web application\n",
    "\n",
    "### Running Voila\n",
    "\n",
    "There are several ways to run Voila but the easiest is from the CLI:"
   ]
  },
  {
   "cell_type": "markdown",
   "id": "da5b8fdd-2475-438d-a2f4-82966ad11585",
   "metadata": {},
   "source": [
    "```bash\n",
    "# Basic usage - serve this notebook\n",
    "voila 04_jupyter_voila.ipynb\n",
    "\n",
    "# Serve all notebooks in current directory\n",
    "voila .\n",
    "\n",
    "# Customize port and host\n",
    "voila 04_jupyter_voila.ipynb --port=8867 --Voila.ip=0.0.0.0\n",
    "\n",
    "# Strip source code completely\n",
    "voila 04_jupyter_voila.ipynb --strip_sources=True\n",
    "```"
   ]
  },
  {
   "cell_type": "code",
   "execution_count": null,
   "id": "486b936e-149b-4ad7-b178-0438ab78c1a1",
   "metadata": {},
   "outputs": [],
   "source": []
  },
  {
   "cell_type": "markdown",
   "id": "59b07fcf-b3c9-4d92-8d1d-6c2405e09ee4",
   "metadata": {},
   "source": [
    "## Try for yourself!"
   ]
  },
  {
   "cell_type": "code",
   "execution_count": null,
   "id": "b2c7d144-4e4c-491c-b6f8-1afe4e904984",
   "metadata": {},
   "outputs": [],
   "source": []
  }
 ],
 "metadata": {
  "kernelspec": {
   "display_name": "showyourwork",
   "language": "python",
   "name": "showyourwork"
  },
  "language_info": {
   "codemirror_mode": {
    "name": "ipython",
    "version": 3
   },
   "file_extension": ".py",
   "mimetype": "text/x-python",
   "name": "python",
   "nbconvert_exporter": "python",
   "pygments_lexer": "ipython3",
   "version": "3.13.3"
  },
  "panel-cell-order": [
   "7f0f1391-a1e1-494e-9911-495990d09d71",
   "07adf396-ba3a-417f-9cf7-912498d8803d",
   "0689046b-e327-4c73-965a-4c63af8af2e1"
  ]
 },
 "nbformat": 4,
 "nbformat_minor": 5
}
