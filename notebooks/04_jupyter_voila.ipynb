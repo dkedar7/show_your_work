{
 "cells": [
  {
   "cell_type": "markdown",
   "id": "7f0f1391-a1e1-494e-9911-495990d09d71",
   "metadata": {
    "panel-layout": {
     "height": 50.8203125,
     "visible": true,
     "width": 100
    }
   },
   "source": [
    "## Jupyter notebooks"
   ]
  },
  {
   "cell_type": "markdown",
   "id": "bad4e04a-5204-444c-b3cd-fb5a708e9a25",
   "metadata": {},
   "source": [
    "Documentation: https://docs.jupyter.org/en/latest/"
   ]
  },
  {
   "cell_type": "markdown",
   "id": "c4b22695-64f4-42c0-8db4-96ca08ce9e20",
   "metadata": {},
   "source": [
    "Jupyter notebooks may easily be the most deployed type of web application in Python!\n",
    "\n",
    "<img src=\"https://jupyter.org/assets/homepage/main-logo.svg\" alt=\"Jupyter Logo\" width=\"200\"/>"
   ]
  },
  {
   "cell_type": "markdown",
   "id": "66428e3f-903d-4652-8037-32a43ebc72bf",
   "metadata": {
    "vscode": {
     "languageId": "markdown"
    }
   },
   "source": [
    "Jupyter notebooks support two main types of cells:\n",
    "\n",
    "- **Code Cells**: Used to write and execute code (e.g., Python, R). The output appears directly below the cell.\n",
    "- **Markdown Cells**: Used for formatted text, documentation, equations (LaTeX), images, and links.\n",
    "- **Raw Cells**: Contain plain text that is not executed or rendered as Markdown. Useful for notes, instructions, or content to be processed by external tools.\n",
    "\n",
    "You can switch between cell types using the toolbar or keyboard shortcuts."
   ]
  },
  {
   "cell_type": "markdown",
   "id": "049d98ca-daeb-49d4-9b0d-a964c3bd531f",
   "metadata": {
    "vscode": {
     "languageId": "markdown"
    }
   },
   "source": [
    "#### Jupyter Server and Kernel\n",
    "\n",
    "- **Jupyter Server**: The Jupyter server is the backend application that manages your notebooks, files, and computational resources. It provides the web interface, handles requests from your browser, and communicates with kernels to execute code. When you start Jupyter Notebook or JupyterLab, you are launching a Jupyter server.\n",
    "\n",
    "- **Kernel**: A kernel is a separate process that runs and executes your code. Each notebook is connected to a kernel, which can be for different programming languages (e.g., Python, R, Julia). The kernel receives code from the notebook interface, executes it, and returns the output (results, plots, errors) back to the notebook.\n",
    "\n",
    "**How they work together:**  \n",
    "When you run a code cell in a notebook, the Jupyter server sends the code to the kernel. The kernel executes the code and sends the output back to the server, which then displays it in your browser."
   ]
  },
  {
   "cell_type": "code",
   "execution_count": null,
   "id": "a5751756",
   "metadata": {},
   "outputs": [],
   "source": []
  },
  {
   "cell_type": "markdown",
   "id": "958ff6dd",
   "metadata": {},
   "source": [
    "#### Understanding the available datasets"
   ]
  },
  {
   "cell_type": "markdown",
   "id": "f8c65b47",
   "metadata": {},
   "source": [
    "##### 1. Penguins datset\n",
    "\n",
    "- The penguins dataset contains measurements for three species of penguins (Adelie, Chinstrap, Gentoo) observed on different islands in the Palmer Archipelago, Antarctica.\n",
    "- It includes features such as bill length and depth, flipper length, body mass, sex, and species.\n",
    "- This dataset is commonly used for data visualization and machine learning exercises as an alternative to the classic iris dataset.\n",
    "- It provides a real-world example for exploring classification, visualization, and data cleaning techniques."
   ]
  },
  {
   "cell_type": "code",
   "execution_count": 1,
   "id": "5af77db1",
   "metadata": {},
   "outputs": [],
   "source": [
    "import pandas as pd\n",
    "import matplotlib.pyplot as plt\n",
    "import seaborn as sns"
   ]
  },
  {
   "cell_type": "code",
   "execution_count": 2,
   "id": "72f45ab5",
   "metadata": {},
   "outputs": [
    {
     "data": {
      "text/html": [
       "<div>\n",
       "<style scoped>\n",
       "    .dataframe tbody tr th:only-of-type {\n",
       "        vertical-align: middle;\n",
       "    }\n",
       "\n",
       "    .dataframe tbody tr th {\n",
       "        vertical-align: top;\n",
       "    }\n",
       "\n",
       "    .dataframe thead th {\n",
       "        text-align: right;\n",
       "    }\n",
       "</style>\n",
       "<table border=\"1\" class=\"dataframe\">\n",
       "  <thead>\n",
       "    <tr style=\"text-align: right;\">\n",
       "      <th></th>\n",
       "      <th>species</th>\n",
       "      <th>island</th>\n",
       "      <th>bill_length_mm</th>\n",
       "      <th>bill_depth_mm</th>\n",
       "      <th>flipper_length_mm</th>\n",
       "      <th>body_mass_g</th>\n",
       "      <th>sex</th>\n",
       "    </tr>\n",
       "  </thead>\n",
       "  <tbody>\n",
       "    <tr>\n",
       "      <th>0</th>\n",
       "      <td>Adelie</td>\n",
       "      <td>Torgersen</td>\n",
       "      <td>39.1</td>\n",
       "      <td>18.7</td>\n",
       "      <td>181.0</td>\n",
       "      <td>3750.0</td>\n",
       "      <td>MALE</td>\n",
       "    </tr>\n",
       "    <tr>\n",
       "      <th>1</th>\n",
       "      <td>Adelie</td>\n",
       "      <td>Torgersen</td>\n",
       "      <td>39.5</td>\n",
       "      <td>17.4</td>\n",
       "      <td>186.0</td>\n",
       "      <td>3800.0</td>\n",
       "      <td>FEMALE</td>\n",
       "    </tr>\n",
       "    <tr>\n",
       "      <th>2</th>\n",
       "      <td>Adelie</td>\n",
       "      <td>Torgersen</td>\n",
       "      <td>40.3</td>\n",
       "      <td>18.0</td>\n",
       "      <td>195.0</td>\n",
       "      <td>3250.0</td>\n",
       "      <td>FEMALE</td>\n",
       "    </tr>\n",
       "    <tr>\n",
       "      <th>3</th>\n",
       "      <td>Adelie</td>\n",
       "      <td>Torgersen</td>\n",
       "      <td>NaN</td>\n",
       "      <td>NaN</td>\n",
       "      <td>NaN</td>\n",
       "      <td>NaN</td>\n",
       "      <td>NaN</td>\n",
       "    </tr>\n",
       "    <tr>\n",
       "      <th>4</th>\n",
       "      <td>Adelie</td>\n",
       "      <td>Torgersen</td>\n",
       "      <td>36.7</td>\n",
       "      <td>19.3</td>\n",
       "      <td>193.0</td>\n",
       "      <td>3450.0</td>\n",
       "      <td>FEMALE</td>\n",
       "    </tr>\n",
       "  </tbody>\n",
       "</table>\n",
       "</div>"
      ],
      "text/plain": [
       "  species     island  bill_length_mm  bill_depth_mm  flipper_length_mm  \\\n",
       "0  Adelie  Torgersen            39.1           18.7              181.0   \n",
       "1  Adelie  Torgersen            39.5           17.4              186.0   \n",
       "2  Adelie  Torgersen            40.3           18.0              195.0   \n",
       "3  Adelie  Torgersen             NaN            NaN                NaN   \n",
       "4  Adelie  Torgersen            36.7           19.3              193.0   \n",
       "\n",
       "   body_mass_g     sex  \n",
       "0       3750.0    MALE  \n",
       "1       3800.0  FEMALE  \n",
       "2       3250.0  FEMALE  \n",
       "3          NaN     NaN  \n",
       "4       3450.0  FEMALE  "
      ]
     },
     "metadata": {},
     "output_type": "display_data"
    },
    {
     "name": "stdout",
     "output_type": "stream",
     "text": [
      "<class 'pandas.core.frame.DataFrame'>\n",
      "RangeIndex: 344 entries, 0 to 343\n",
      "Data columns (total 7 columns):\n",
      " #   Column             Non-Null Count  Dtype  \n",
      "---  ------             --------------  -----  \n",
      " 0   species            344 non-null    object \n",
      " 1   island             344 non-null    object \n",
      " 2   bill_length_mm     342 non-null    float64\n",
      " 3   bill_depth_mm      342 non-null    float64\n",
      " 4   flipper_length_mm  342 non-null    float64\n",
      " 5   body_mass_g        342 non-null    float64\n",
      " 6   sex                333 non-null    object \n",
      "dtypes: float64(4), object(3)\n",
      "memory usage: 18.9+ KB\n"
     ]
    },
    {
     "data": {
      "text/html": [
       "<div>\n",
       "<style scoped>\n",
       "    .dataframe tbody tr th:only-of-type {\n",
       "        vertical-align: middle;\n",
       "    }\n",
       "\n",
       "    .dataframe tbody tr th {\n",
       "        vertical-align: top;\n",
       "    }\n",
       "\n",
       "    .dataframe thead th {\n",
       "        text-align: right;\n",
       "    }\n",
       "</style>\n",
       "<table border=\"1\" class=\"dataframe\">\n",
       "  <thead>\n",
       "    <tr style=\"text-align: right;\">\n",
       "      <th></th>\n",
       "      <th>species</th>\n",
       "      <th>island</th>\n",
       "      <th>bill_length_mm</th>\n",
       "      <th>bill_depth_mm</th>\n",
       "      <th>flipper_length_mm</th>\n",
       "      <th>body_mass_g</th>\n",
       "      <th>sex</th>\n",
       "    </tr>\n",
       "  </thead>\n",
       "  <tbody>\n",
       "    <tr>\n",
       "      <th>count</th>\n",
       "      <td>344</td>\n",
       "      <td>344</td>\n",
       "      <td>342.000000</td>\n",
       "      <td>342.000000</td>\n",
       "      <td>342.000000</td>\n",
       "      <td>342.000000</td>\n",
       "      <td>333</td>\n",
       "    </tr>\n",
       "    <tr>\n",
       "      <th>unique</th>\n",
       "      <td>3</td>\n",
       "      <td>3</td>\n",
       "      <td>NaN</td>\n",
       "      <td>NaN</td>\n",
       "      <td>NaN</td>\n",
       "      <td>NaN</td>\n",
       "      <td>2</td>\n",
       "    </tr>\n",
       "    <tr>\n",
       "      <th>top</th>\n",
       "      <td>Adelie</td>\n",
       "      <td>Biscoe</td>\n",
       "      <td>NaN</td>\n",
       "      <td>NaN</td>\n",
       "      <td>NaN</td>\n",
       "      <td>NaN</td>\n",
       "      <td>MALE</td>\n",
       "    </tr>\n",
       "    <tr>\n",
       "      <th>freq</th>\n",
       "      <td>152</td>\n",
       "      <td>168</td>\n",
       "      <td>NaN</td>\n",
       "      <td>NaN</td>\n",
       "      <td>NaN</td>\n",
       "      <td>NaN</td>\n",
       "      <td>168</td>\n",
       "    </tr>\n",
       "    <tr>\n",
       "      <th>mean</th>\n",
       "      <td>NaN</td>\n",
       "      <td>NaN</td>\n",
       "      <td>43.921930</td>\n",
       "      <td>17.151170</td>\n",
       "      <td>200.915205</td>\n",
       "      <td>4201.754386</td>\n",
       "      <td>NaN</td>\n",
       "    </tr>\n",
       "    <tr>\n",
       "      <th>std</th>\n",
       "      <td>NaN</td>\n",
       "      <td>NaN</td>\n",
       "      <td>5.459584</td>\n",
       "      <td>1.974793</td>\n",
       "      <td>14.061714</td>\n",
       "      <td>801.954536</td>\n",
       "      <td>NaN</td>\n",
       "    </tr>\n",
       "    <tr>\n",
       "      <th>min</th>\n",
       "      <td>NaN</td>\n",
       "      <td>NaN</td>\n",
       "      <td>32.100000</td>\n",
       "      <td>13.100000</td>\n",
       "      <td>172.000000</td>\n",
       "      <td>2700.000000</td>\n",
       "      <td>NaN</td>\n",
       "    </tr>\n",
       "    <tr>\n",
       "      <th>25%</th>\n",
       "      <td>NaN</td>\n",
       "      <td>NaN</td>\n",
       "      <td>39.225000</td>\n",
       "      <td>15.600000</td>\n",
       "      <td>190.000000</td>\n",
       "      <td>3550.000000</td>\n",
       "      <td>NaN</td>\n",
       "    </tr>\n",
       "    <tr>\n",
       "      <th>50%</th>\n",
       "      <td>NaN</td>\n",
       "      <td>NaN</td>\n",
       "      <td>44.450000</td>\n",
       "      <td>17.300000</td>\n",
       "      <td>197.000000</td>\n",
       "      <td>4050.000000</td>\n",
       "      <td>NaN</td>\n",
       "    </tr>\n",
       "    <tr>\n",
       "      <th>75%</th>\n",
       "      <td>NaN</td>\n",
       "      <td>NaN</td>\n",
       "      <td>48.500000</td>\n",
       "      <td>18.700000</td>\n",
       "      <td>213.000000</td>\n",
       "      <td>4750.000000</td>\n",
       "      <td>NaN</td>\n",
       "    </tr>\n",
       "    <tr>\n",
       "      <th>max</th>\n",
       "      <td>NaN</td>\n",
       "      <td>NaN</td>\n",
       "      <td>59.600000</td>\n",
       "      <td>21.500000</td>\n",
       "      <td>231.000000</td>\n",
       "      <td>6300.000000</td>\n",
       "      <td>NaN</td>\n",
       "    </tr>\n",
       "  </tbody>\n",
       "</table>\n",
       "</div>"
      ],
      "text/plain": [
       "       species  island  bill_length_mm  bill_depth_mm  flipper_length_mm  \\\n",
       "count      344     344      342.000000     342.000000         342.000000   \n",
       "unique       3       3             NaN            NaN                NaN   \n",
       "top     Adelie  Biscoe             NaN            NaN                NaN   \n",
       "freq       152     168             NaN            NaN                NaN   \n",
       "mean       NaN     NaN       43.921930      17.151170         200.915205   \n",
       "std        NaN     NaN        5.459584       1.974793          14.061714   \n",
       "min        NaN     NaN       32.100000      13.100000         172.000000   \n",
       "25%        NaN     NaN       39.225000      15.600000         190.000000   \n",
       "50%        NaN     NaN       44.450000      17.300000         197.000000   \n",
       "75%        NaN     NaN       48.500000      18.700000         213.000000   \n",
       "max        NaN     NaN       59.600000      21.500000         231.000000   \n",
       "\n",
       "        body_mass_g   sex  \n",
       "count    342.000000   333  \n",
       "unique          NaN     2  \n",
       "top             NaN  MALE  \n",
       "freq            NaN   168  \n",
       "mean    4201.754386   NaN  \n",
       "std      801.954536   NaN  \n",
       "min     2700.000000   NaN  \n",
       "25%     3550.000000   NaN  \n",
       "50%     4050.000000   NaN  \n",
       "75%     4750.000000   NaN  \n",
       "max     6300.000000   NaN  "
      ]
     },
     "metadata": {},
     "output_type": "display_data"
    }
   ],
   "source": [
    "# Load and explore the penguins dataset\n",
    "penguins = pd.read_csv('data/penguins.csv')\n",
    "\n",
    "# Show the first few rows\n",
    "display(penguins.head())\n",
    "\n",
    "# Show basic info\n",
    "penguins.info()\n",
    "\n",
    "# Show summary statistics\n",
    "display(penguins.describe(include='all'))"
   ]
  },
  {
   "cell_type": "code",
   "execution_count": 3,
   "id": "364c79ee",
   "metadata": {},
   "outputs": [
    {
     "data": {
      "image/png": "[encoded data removed]",
      "text/plain": [
       "<Figure size 640x480 with 1 Axes>"
      ]
     },
     "metadata": {},
     "output_type": "display_data"
    },
    {
     "data": {
      "image/png": "[encoded data removed]",
      "text/plain": [
       "<Figure size 640x480 with 1 Axes>"
      ]
     },
     "metadata": {},
     "output_type": "display_data"
    },
    {
     "data": {
      "image/png": "[encoded data removed]",
      "text/plain": [
       "<Figure size 640x480 with 1 Axes>"
      ]
     },
     "metadata": {},
     "output_type": "display_data"
    }
   ],
   "source": [
    "# Histogram of bill length using seaborn\n",
    "sns.histplot(penguins['bill_length_mm'], bins=30, kde=True, edgecolor='black')\n",
    "plt.title('Bill Length Distribution')\n",
    "plt.xlabel('Bill Length (mm)')\n",
    "plt.ylabel('Frequency')\n",
    "plt.show()\n",
    "\n",
    "# Boxplot of body mass by species using seaborn\n",
    "sns.boxplot(x='species', y='body_mass_g', data=penguins)\n",
    "plt.title('Body Mass by Species')\n",
    "plt.xlabel('Species')\n",
    "plt.ylabel('Body Mass (g)')\n",
    "plt.show()\n",
    "\n",
    "# Scatter plot: bill length vs flipper length, colored by species using seaborn\n",
    "sns.scatterplot(\n",
    "    data=penguins,\n",
    "    x='bill_length_mm',\n",
    "    y='flipper_length_mm',\n",
    "    hue='species',\n",
    "    alpha=0.7\n",
    ")\n",
    "plt.title('Bill Length vs Flipper Length by Species')\n",
    "plt.xlabel('Bill Length (mm)')\n",
    "plt.ylabel('Flipper Length (mm)')\n",
    "plt.legend(title='Species')\n",
    "plt.show()"
   ]
  },
  {
   "cell_type": "code",
   "execution_count": null,
   "id": "135ecbd5",
   "metadata": {},
   "outputs": [],
   "source": []
  },
  {
   "cell_type": "markdown",
   "id": "2741ccd9",
   "metadata": {
    "vscode": {
     "languageId": "markdown"
    }
   },
   "source": [
    "##### 2. Car Crashes Dataset\n",
    "\n",
    "- The car crashes dataset contains data on traffic accidents, including the number of crashes, injuries, and fatalities by state or region.\n",
    "- It typically includes features such as total crashes, alcohol-involved crashes, speeding-related crashes, and population statistics.\n",
    "- This dataset is widely used for data visualization, exploratory data analysis, and statistical modeling to understand factors contributing to road accidents.\n",
    "- It provides a practical example for learning about correlation, regression, and geospatial analysis in Python."
   ]
  },
  {
   "cell_type": "code",
   "execution_count": 4,
   "id": "a873b7d1",
   "metadata": {},
   "outputs": [
    {
     "data": {
      "text/html": [
       "<div>\n",
       "<style scoped>\n",
       "    .dataframe tbody tr th:only-of-type {\n",
       "        vertical-align: middle;\n",
       "    }\n",
       "\n",
       "    .dataframe tbody tr th {\n",
       "        vertical-align: top;\n",
       "    }\n",
       "\n",
       "    .dataframe thead th {\n",
       "        text-align: right;\n",
       "    }\n",
       "</style>\n",
       "<table border=\"1\" class=\"dataframe\">\n",
       "  <thead>\n",
       "    <tr style=\"text-align: right;\">\n",
       "      <th></th>\n",
       "      <th>total</th>\n",
       "      <th>speeding</th>\n",
       "      <th>alcohol</th>\n",
       "      <th>not_distracted</th>\n",
       "      <th>no_previous</th>\n",
       "      <th>ins_premium</th>\n",
       "      <th>ins_losses</th>\n",
       "      <th>abbrev</th>\n",
       "    </tr>\n",
       "  </thead>\n",
       "  <tbody>\n",
       "    <tr>\n",
       "      <th>0</th>\n",
       "      <td>18.8</td>\n",
       "      <td>7.332</td>\n",
       "      <td>5.640</td>\n",
       "      <td>18.048</td>\n",
       "      <td>15.040</td>\n",
       "      <td>784.55</td>\n",
       "      <td>145.08</td>\n",
       "      <td>AL</td>\n",
       "    </tr>\n",
       "    <tr>\n",
       "      <th>1</th>\n",
       "      <td>18.1</td>\n",
       "      <td>7.421</td>\n",
       "      <td>4.525</td>\n",
       "      <td>16.290</td>\n",
       "      <td>17.014</td>\n",
       "      <td>1053.48</td>\n",
       "      <td>133.93</td>\n",
       "      <td>AK</td>\n",
       "    </tr>\n",
       "    <tr>\n",
       "      <th>2</th>\n",
       "      <td>18.6</td>\n",
       "      <td>6.510</td>\n",
       "      <td>5.208</td>\n",
       "      <td>15.624</td>\n",
       "      <td>17.856</td>\n",
       "      <td>899.47</td>\n",
       "      <td>110.35</td>\n",
       "      <td>AZ</td>\n",
       "    </tr>\n",
       "    <tr>\n",
       "      <th>3</th>\n",
       "      <td>22.4</td>\n",
       "      <td>4.032</td>\n",
       "      <td>5.824</td>\n",
       "      <td>21.056</td>\n",
       "      <td>21.280</td>\n",
       "      <td>827.34</td>\n",
       "      <td>142.39</td>\n",
       "      <td>AR</td>\n",
       "    </tr>\n",
       "    <tr>\n",
       "      <th>4</th>\n",
       "      <td>12.0</td>\n",
       "      <td>4.200</td>\n",
       "      <td>3.360</td>\n",
       "      <td>10.920</td>\n",
       "      <td>10.680</td>\n",
       "      <td>878.41</td>\n",
       "      <td>165.63</td>\n",
       "      <td>CA</td>\n",
       "    </tr>\n",
       "  </tbody>\n",
       "</table>\n",
       "</div>"
      ],
      "text/plain": [
       "   total  speeding  alcohol  not_distracted  no_previous  ins_premium  \\\n",
       "0   18.8     7.332    5.640          18.048       15.040       784.55   \n",
       "1   18.1     7.421    4.525          16.290       17.014      1053.48   \n",
       "2   18.6     6.510    5.208          15.624       17.856       899.47   \n",
       "3   22.4     4.032    5.824          21.056       21.280       827.34   \n",
       "4   12.0     4.200    3.360          10.920       10.680       878.41   \n",
       "\n",
       "   ins_losses abbrev  \n",
       "0      145.08     AL  \n",
       "1      133.93     AK  \n",
       "2      110.35     AZ  \n",
       "3      142.39     AR  \n",
       "4      165.63     CA  "
      ]
     },
     "metadata": {},
     "output_type": "display_data"
    },
    {
     "name": "stdout",
     "output_type": "stream",
     "text": [
      "<class 'pandas.core.frame.DataFrame'>\n",
      "RangeIndex: 51 entries, 0 to 50\n",
      "Data columns (total 8 columns):\n",
      " #   Column          Non-Null Count  Dtype  \n",
      "---  ------          --------------  -----  \n",
      " 0   total           51 non-null     float64\n",
      " 1   speeding        51 non-null     float64\n",
      " 2   alcohol         51 non-null     float64\n",
      " 3   not_distracted  51 non-null     float64\n",
      " 4   no_previous     51 non-null     float64\n",
      " 5   ins_premium     51 non-null     float64\n",
      " 6   ins_losses      51 non-null     float64\n",
      " 7   abbrev          51 non-null     object \n",
      "dtypes: float64(7), object(1)\n",
      "memory usage: 3.3+ KB\n"
     ]
    },
    {
     "data": {
      "text/html": [
       "<div>\n",
       "<style scoped>\n",
       "    .dataframe tbody tr th:only-of-type {\n",
       "        vertical-align: middle;\n",
       "    }\n",
       "\n",
       "    .dataframe tbody tr th {\n",
       "        vertical-align: top;\n",
       "    }\n",
       "\n",
       "    .dataframe thead th {\n",
       "        text-align: right;\n",
       "    }\n",
       "</style>\n",
       "<table border=\"1\" class=\"dataframe\">\n",
       "  <thead>\n",
       "    <tr style=\"text-align: right;\">\n",
       "      <th></th>\n",
       "      <th>total</th>\n",
       "      <th>speeding</th>\n",
       "      <th>alcohol</th>\n",
       "      <th>not_distracted</th>\n",
       "      <th>no_previous</th>\n",
       "      <th>ins_premium</th>\n",
       "      <th>ins_losses</th>\n",
       "      <th>abbrev</th>\n",
       "    </tr>\n",
       "  </thead>\n",
       "  <tbody>\n",
       "    <tr>\n",
       "      <th>count</th>\n",
       "      <td>51.000000</td>\n",
       "      <td>51.000000</td>\n",
       "      <td>51.000000</td>\n",
       "      <td>51.000000</td>\n",
       "      <td>51.000000</td>\n",
       "      <td>51.000000</td>\n",
       "      <td>51.000000</td>\n",
       "      <td>51</td>\n",
       "    </tr>\n",
       "    <tr>\n",
       "      <th>unique</th>\n",
       "      <td>NaN</td>\n",
       "      <td>NaN</td>\n",
       "      <td>NaN</td>\n",
       "      <td>NaN</td>\n",
       "      <td>NaN</td>\n",
       "      <td>NaN</td>\n",
       "      <td>NaN</td>\n",
       "      <td>51</td>\n",
       "    </tr>\n",
       "    <tr>\n",
       "      <th>top</th>\n",
       "      <td>NaN</td>\n",
       "      <td>NaN</td>\n",
       "      <td>NaN</td>\n",
       "      <td>NaN</td>\n",
       "      <td>NaN</td>\n",
       "      <td>NaN</td>\n",
       "      <td>NaN</td>\n",
       "      <td>AL</td>\n",
       "    </tr>\n",
       "    <tr>\n",
       "      <th>freq</th>\n",
       "      <td>NaN</td>\n",
       "      <td>NaN</td>\n",
       "      <td>NaN</td>\n",
       "      <td>NaN</td>\n",
       "      <td>NaN</td>\n",
       "      <td>NaN</td>\n",
       "      <td>NaN</td>\n",
       "      <td>1</td>\n",
       "    </tr>\n",
       "    <tr>\n",
       "      <th>mean</th>\n",
       "      <td>15.790196</td>\n",
       "      <td>4.998196</td>\n",
       "      <td>4.886784</td>\n",
       "      <td>13.573176</td>\n",
       "      <td>14.004882</td>\n",
       "      <td>886.957647</td>\n",
       "      <td>134.493137</td>\n",
       "      <td>NaN</td>\n",
       "    </tr>\n",
       "    <tr>\n",
       "      <th>std</th>\n",
       "      <td>4.122002</td>\n",
       "      <td>2.017747</td>\n",
       "      <td>1.729133</td>\n",
       "      <td>4.508977</td>\n",
       "      <td>3.764672</td>\n",
       "      <td>178.296285</td>\n",
       "      <td>24.835922</td>\n",
       "      <td>NaN</td>\n",
       "    </tr>\n",
       "    <tr>\n",
       "      <th>min</th>\n",
       "      <td>5.900000</td>\n",
       "      <td>1.792000</td>\n",
       "      <td>1.593000</td>\n",
       "      <td>1.760000</td>\n",
       "      <td>5.900000</td>\n",
       "      <td>641.960000</td>\n",
       "      <td>82.750000</td>\n",
       "      <td>NaN</td>\n",
       "    </tr>\n",
       "    <tr>\n",
       "      <th>25%</th>\n",
       "      <td>12.750000</td>\n",
       "      <td>3.766500</td>\n",
       "      <td>3.894000</td>\n",
       "      <td>10.478000</td>\n",
       "      <td>11.348000</td>\n",
       "      <td>768.430000</td>\n",
       "      <td>114.645000</td>\n",
       "      <td>NaN</td>\n",
       "    </tr>\n",
       "    <tr>\n",
       "      <th>50%</th>\n",
       "      <td>15.600000</td>\n",
       "      <td>4.608000</td>\n",
       "      <td>4.554000</td>\n",
       "      <td>13.857000</td>\n",
       "      <td>13.775000</td>\n",
       "      <td>858.970000</td>\n",
       "      <td>136.050000</td>\n",
       "      <td>NaN</td>\n",
       "    </tr>\n",
       "    <tr>\n",
       "      <th>75%</th>\n",
       "      <td>18.500000</td>\n",
       "      <td>6.439000</td>\n",
       "      <td>5.604000</td>\n",
       "      <td>16.140000</td>\n",
       "      <td>16.755000</td>\n",
       "      <td>1007.945000</td>\n",
       "      <td>151.870000</td>\n",
       "      <td>NaN</td>\n",
       "    </tr>\n",
       "    <tr>\n",
       "      <th>max</th>\n",
       "      <td>23.900000</td>\n",
       "      <td>9.450000</td>\n",
       "      <td>10.038000</td>\n",
       "      <td>23.661000</td>\n",
       "      <td>21.280000</td>\n",
       "      <td>1301.520000</td>\n",
       "      <td>194.780000</td>\n",
       "      <td>NaN</td>\n",
       "    </tr>\n",
       "  </tbody>\n",
       "</table>\n",
       "</div>"
      ],
      "text/plain": [
       "            total   speeding    alcohol  not_distracted  no_previous  \\\n",
       "count   51.000000  51.000000  51.000000       51.000000    51.000000   \n",
       "unique        NaN        NaN        NaN             NaN          NaN   \n",
       "top           NaN        NaN        NaN             NaN          NaN   \n",
       "freq          NaN        NaN        NaN             NaN          NaN   \n",
       "mean    15.790196   4.998196   4.886784       13.573176    14.004882   \n",
       "std      4.122002   2.017747   1.729133        4.508977     3.764672   \n",
       "min      5.900000   1.792000   1.593000        1.760000     5.900000   \n",
       "25%     12.750000   3.766500   3.894000       10.478000    11.348000   \n",
       "50%     15.600000   4.608000   4.554000       13.857000    13.775000   \n",
       "75%     18.500000   6.439000   5.604000       16.140000    16.755000   \n",
       "max     23.900000   9.450000  10.038000       23.661000    21.280000   \n",
       "\n",
       "        ins_premium  ins_losses abbrev  \n",
       "count     51.000000   51.000000     51  \n",
       "unique          NaN         NaN     51  \n",
       "top             NaN         NaN     AL  \n",
       "freq            NaN         NaN      1  \n",
       "mean     886.957647  134.493137    NaN  \n",
       "std      178.296285   24.835922    NaN  \n",
       "min      641.960000   82.750000    NaN  \n",
       "25%      768.430000  114.645000    NaN  \n",
       "50%      858.970000  136.050000    NaN  \n",
       "75%     1007.945000  151.870000    NaN  \n",
       "max     1301.520000  194.780000    NaN  "
      ]
     },
     "metadata": {},
     "output_type": "display_data"
    }
   ],
   "source": [
    "# Load and explore the penguins dataset\n",
    "car_crashes = pd.read_csv('data/car_crashes.csv')\n",
    "\n",
    "# Show the first few rows\n",
    "display(car_crashes.head())\n",
    "\n",
    "# Show basic info\n",
    "car_crashes.info()\n",
    "\n",
    "# Show summary statistics\n",
    "display(car_crashes.describe(include='all'))"
   ]
  },
  {
   "cell_type": "code",
   "execution_count": 5,
   "id": "d7711015",
   "metadata": {},
   "outputs": [
    {
     "data": {
      "text/plain": [
       "Text(0, 0.5, 'Frequency')"
      ]
     },
     "execution_count": 5,
     "metadata": {},
     "output_type": "execute_result"
    },
    {
     "data": {
      "image/png": "[encoded data removed]",
      "text/plain": [
       "<Figure size 640x480 with 1 Axes>"
      ]
     },
     "metadata": {},
     "output_type": "display_data"
    }
   ],
   "source": [
    "sns.histplot(car_crashes['total'], bins=15, kde=True, edgecolor='black')\n",
    "plt.title('Distribution of Total Car Crashes per State')\n",
    "plt.xlabel('Total Crashes')\n",
    "plt.ylabel('Frequency')\n",
    "# plt.show()"
   ]
  },
  {
   "cell_type": "code",
   "execution_count": 6,
   "id": "0e0f8f76",
   "metadata": {},
   "outputs": [
    {
     "data": {
      "application/vnd.plotly.v1+json": {
       "config": {
        "plotlyServerURL": "https://plot.ly"
       },
       "data": [
        {
         "coloraxis": "coloraxis",
         "geo": "geo",
         "hovertemplate": "abbrev=%{location}<br>Insurance Losses=%{z}<extra></extra>",
         "locationmode": "USA-states",
         "locations": [
          "AL",
          "AK",
          "AZ",
          "AR",
          "CA",
          "CO",
          "CT",
          "DE",
          "DC",
          "FL",
          "GA",
          "HI",
          "ID",
          "IL",
          "IN",
          "IA",
          "KS",
          "KY",
          "LA",
          "ME",
          "MD",
          "MA",
          "MI",
          "MN",
          "MS",
          "MO",
          "MT",
          "NE",
          "NV",
          "NH",
          "NJ",
          "NM",
          "NY",
          "NC",
          "ND",
          "OH",
          "OK",
          "OR",
          "PA",
          "RI",
          "SC",
          "SD",
          "TN",
          "TX",
          "UT",
          "VT",
          "VA",
          "WA",
          "WV",
          "WI",
          "WY"
         ],
         "name": "",
         "type": "choropleth",
         "z": {
          "bdata": "w/UoXI8iYkD2KFyPwr1gQGZmZmZmlltAFK5H4XrMYUBcj8L1KLRkQIXrUbgefWFAcT0K16PgZECPwvUoXO9iQJqZmZmZAWFA9ihcj8IFYkCamZmZmdlhQHsUrkfhOl5AAAAAAACwVEDNzMzMzGRhQHsUrkfhOltArkfhehSeXECamZmZmblgQFyPwvUoJGFAKVyPwvVYaEAUrkfheiRYQGZmZmZmFmhAXI/C9Sj0YEC4HoXrUQhjQDMzMzMzq2BAcT0K16N4Y0BmZmZmZg5iQJqZmZmZSVVAFK5H4Xq0XEAfhetRuFZhQD0K16NwDV5AMzMzMzP7Y0AAAAAAADBeQLgehetRwGJAFK5H4Xr0X0CuR+F6FG5bQHE9CtejsGBA7FG4HoVbZkDXo3A9CidaQOxRuB6FO2NAw/UoXI+SYkDD9ShcjxJdQEjhehSuN1hACtejcD1yY0DD9Shcj5pjQB+F61G4XltA16NwPQpnW0DXo3A9CjdjQEjhehSu51tAUrgehesRY0BI4XoUrqdaQMP1KFyPgl5A",
          "dtype": "f8"
         }
        }
       ],
       "layout": {
        "coloraxis": {
         "colorbar": {
          "title": {
           "text": "Insurance Losses"
          }
         },
         "colorscale": [
          [
           0,
           "rgb(255,245,240)"
          ],
          [
           0.125,
           "rgb(254,224,210)"
          ],
          [
           0.25,
           "rgb(252,187,161)"
          ],
          [
           0.375,
           "rgb(252,146,114)"
          ],
          [
           0.5,
           "rgb(251,106,74)"
          ],
          [
           0.625,
           "rgb(239,59,44)"
          ],
          [
           0.75,
           "rgb(203,24,29)"
          ],
          [
           0.875,
           "rgb(165,15,21)"
          ],
          [
           1,
           "rgb(103,0,13)"
          ]
         ]
        },
        "geo": {
         "center": {},
         "domain": {
          "x": [
           0,
           1
          ],
          "y": [
           0,
           1
          ]
         },
         "scope": "usa"
        },
        "legend": {
         "tracegroupgap": 0
        },
        "template": {
         "data": {
          "bar": [
           {
            "error_x": {
             "color": "#2a3f5f"
            },
            "error_y": {
             "color": "#2a3f5f"
            },
            "marker": {
             "line": {
              "color": "#E5ECF6",
              "width": 0.5
             },
             "pattern": {
              "fillmode": "overlay",
              "size": 10,
              "solidity": 0.2
             }
            },
            "type": "bar"
           }
          ],
          "barpolar": [
           {
            "marker": {
             "line": {
              "color": "#E5ECF6",
              "width": 0.5
             },
             "pattern": {
              "fillmode": "overlay",
              "size": 10,
              "solidity": 0.2
             }
            },
            "type": "barpolar"
           }
          ],
          "carpet": [
           {
            "aaxis": {
             "endlinecolor": "#2a3f5f",
             "gridcolor": "white",
             "linecolor": "white",
             "minorgridcolor": "white",
             "startlinecolor": "#2a3f5f"
            },
            "baxis": {
             "endlinecolor": "#2a3f5f",
             "gridcolor": "white",
             "linecolor": "white",
             "minorgridcolor": "white",
             "startlinecolor": "#2a3f5f"
            },
            "type": "carpet"
           }
          ],
          "choropleth": [
           {
            "colorbar": {
             "outlinewidth": 0,
             "ticks": ""
            },
            "type": "choropleth"
           }
          ],
          "contour": [
           {
            "colorbar": {
             "outlinewidth": 0,
             "ticks": ""
            },
            "colorscale": [
             [
              0,
              "#0d0887"
             ],
             [
              0.1111111111111111,
              "#46039f"
             ],
             [
              0.2222222222222222,
              "#7201a8"
             ],
             [
              0.3333333333333333,
              "#9c179e"
             ],
             [
              0.4444444444444444,
              "#bd3786"
             ],
             [
              0.5555555555555556,
              "#d8576b"
             ],
             [
              0.6666666666666666,
              "#ed7953"
             ],
             [
              0.7777777777777778,
              "#fb9f3a"
             ],
             [
              0.8888888888888888,
              "#fdca26"
             ],
             [
              1,
              "#f0f921"
             ]
            ],
            "type": "contour"
           }
          ],
          "contourcarpet": [
           {
            "colorbar": {
             "outlinewidth": 0,
             "ticks": ""
            },
            "type": "contourcarpet"
           }
          ],
          "heatmap": [
           {
            "colorbar": {
             "outlinewidth": 0,
             "ticks": ""
            },
            "colorscale": [
             [
              0,
              "#0d0887"
             ],
             [
              0.1111111111111111,
              "#46039f"
             ],
             [
              0.2222222222222222,
              "#7201a8"
             ],
             [
              0.3333333333333333,
              "#9c179e"
             ],
             [
              0.4444444444444444,
              "#bd3786"
             ],
             [
              0.5555555555555556,
              "#d8576b"
             ],
             [
              0.6666666666666666,
              "#ed7953"
             ],
             [
              0.7777777777777778,
              "#fb9f3a"
             ],
             [
              0.8888888888888888,
              "#fdca26"
             ],
             [
              1,
              "#f0f921"
             ]
            ],
            "type": "heatmap"
           }
          ],
          "histogram": [
           {
            "marker": {
             "pattern": {
              "fillmode": "overlay",
              "size": 10,
              "solidity": 0.2
             }
            },
            "type": "histogram"
           }
          ],
          "histogram2d": [
           {
            "colorbar": {
             "outlinewidth": 0,
             "ticks": ""
            },
            "colorscale": [
             [
              0,
              "#0d0887"
             ],
             [
              0.1111111111111111,
              "#46039f"
             ],
             [
              0.2222222222222222,
              "#7201a8"
             ],
             [
              0.3333333333333333,
              "#9c179e"
             ],
             [
              0.4444444444444444,
              "#bd3786"
             ],
             [
              0.5555555555555556,
              "#d8576b"
             ],
             [
              0.6666666666666666,
              "#ed7953"
             ],
             [
              0.7777777777777778,
              "#fb9f3a"
             ],
             [
              0.8888888888888888,
              "#fdca26"
             ],
             [
              1,
              "#f0f921"
             ]
            ],
            "type": "histogram2d"
           }
          ],
          "histogram2dcontour": [
           {
            "colorbar": {
             "outlinewidth": 0,
             "ticks": ""
            },
            "colorscale": [
             [
              0,
              "#0d0887"
             ],
             [
              0.1111111111111111,
              "#46039f"
             ],
             [
              0.2222222222222222,
              "#7201a8"
             ],
             [
              0.3333333333333333,
              "#9c179e"
             ],
             [
              0.4444444444444444,
              "#bd3786"
             ],
             [
              0.5555555555555556,
              "#d8576b"
             ],
             [
              0.6666666666666666,
              "#ed7953"
             ],
             [
              0.7777777777777778,
              "#fb9f3a"
             ],
             [
              0.8888888888888888,
              "#fdca26"
             ],
             [
              1,
              "#f0f921"
             ]
            ],
            "type": "histogram2dcontour"
           }
          ],
          "mesh3d": [
           {
            "colorbar": {
             "outlinewidth": 0,
             "ticks": ""
            },
            "type": "mesh3d"
           }
          ],
          "parcoords": [
           {
            "line": {
             "colorbar": {
              "outlinewidth": 0,
              "ticks": ""
             }
            },
            "type": "parcoords"
           }
          ],
          "pie": [
           {
            "automargin": true,
            "type": "pie"
           }
          ],
          "scatter": [
           {
            "fillpattern": {
             "fillmode": "overlay",
             "size": 10,
             "solidity": 0.2
            },
            "type": "scatter"
           }
          ],
          "scatter3d": [
           {
            "line": {
             "colorbar": {
              "outlinewidth": 0,
              "ticks": ""
             }
            },
            "marker": {
             "colorbar": {
              "outlinewidth": 0,
              "ticks": ""
             }
            },
            "type": "scatter3d"
           }
          ],
          "scattercarpet": [
           {
            "marker": {
             "colorbar": {
              "outlinewidth": 0,
              "ticks": ""
             }
            },
            "type": "scattercarpet"
           }
          ],
          "scattergeo": [
           {
            "marker": {
             "colorbar": {
              "outlinewidth": 0,
              "ticks": ""
             }
            },
            "type": "scattergeo"
           }
          ],
          "scattergl": [
           {
            "marker": {
             "colorbar": {
              "outlinewidth": 0,
              "ticks": ""
             }
            },
            "type": "scattergl"
           }
          ],
          "scattermap": [
           {
            "marker": {
             "colorbar": {
              "outlinewidth": 0,
              "ticks": ""
             }
            },
            "type": "scattermap"
           }
          ],
          "scattermapbox": [
           {
            "marker": {
             "colorbar": {
              "outlinewidth": 0,
              "ticks": ""
             }
            },
            "type": "scattermapbox"
           }
          ],
          "scatterpolar": [
           {
            "marker": {
             "colorbar": {
              "outlinewidth": 0,
              "ticks": ""
             }
            },
            "type": "scatterpolar"
           }
          ],
          "scatterpolargl": [
           {
            "marker": {
             "colorbar": {
              "outlinewidth": 0,
              "ticks": ""
             }
            },
            "type": "scatterpolargl"
           }
          ],
          "scatterternary": [
           {
            "marker": {
             "colorbar": {
              "outlinewidth": 0,
              "ticks": ""
             }
            },
            "type": "scatterternary"
           }
          ],
          "surface": [
           {
            "colorbar": {
             "outlinewidth": 0,
             "ticks": ""
            },
            "colorscale": [
             [
              0,
              "#0d0887"
             ],
             [
              0.1111111111111111,
              "#46039f"
             ],
             [
              0.2222222222222222,
              "#7201a8"
             ],
             [
              0.3333333333333333,
              "#9c179e"
             ],
             [
              0.4444444444444444,
              "#bd3786"
             ],
             [
              0.5555555555555556,
              "#d8576b"
             ],
             [
              0.6666666666666666,
              "#ed7953"
             ],
             [
              0.7777777777777778,
              "#fb9f3a"
             ],
             [
              0.8888888888888888,
              "#fdca26"
             ],
             [
              1,
              "#f0f921"
             ]
            ],
            "type": "surface"
           }
          ],
          "table": [
           {
            "cells": {
             "fill": {
              "color": "#EBF0F8"
             },
             "line": {
              "color": "white"
             }
            },
            "header": {
             "fill": {
              "color": "#C8D4E3"
             },
             "line": {
              "color": "white"
             }
            },
            "type": "table"
           }
          ]
         },
         "layout": {
          "annotationdefaults": {
           "arrowcolor": "#2a3f5f",
           "arrowhead": 0,
           "arrowwidth": 1
          },
          "autotypenumbers": "strict",
          "coloraxis": {
           "colorbar": {
            "outlinewidth": 0,
            "ticks": ""
           }
          },
          "colorscale": {
           "diverging": [
            [
             0,
             "#8e0152"
            ],
            [
             0.1,
             "#c51b7d"
            ],
            [
             0.2,
             "#de77ae"
            ],
            [
             0.3,
             "#f1b6da"
            ],
            [
             0.4,
             "#fde0ef"
            ],
            [
             0.5,
             "#f7f7f7"
            ],
            [
             0.6,
             "#e6f5d0"
            ],
            [
             0.7,
             "#b8e186"
            ],
            [
             0.8,
             "#7fbc41"
            ],
            [
             0.9,
             "#4d9221"
            ],
            [
             1,
             "#276419"
            ]
           ],
           "sequential": [
            [
             0,
             "#0d0887"
            ],
            [
             0.1111111111111111,
             "#46039f"
            ],
            [
             0.2222222222222222,
             "#7201a8"
            ],
            [
             0.3333333333333333,
             "#9c179e"
            ],
            [
             0.4444444444444444,
             "#bd3786"
            ],
            [
             0.5555555555555556,
             "#d8576b"
            ],
            [
             0.6666666666666666,
             "#ed7953"
            ],
            [
             0.7777777777777778,
             "#fb9f3a"
            ],
            [
             0.8888888888888888,
             "#fdca26"
            ],
            [
             1,
             "#f0f921"
            ]
           ],
           "sequentialminus": [
            [
             0,
             "#0d0887"
            ],
            [
             0.1111111111111111,
             "#46039f"
            ],
            [
             0.2222222222222222,
             "#7201a8"
            ],
            [
             0.3333333333333333,
             "#9c179e"
            ],
            [
             0.4444444444444444,
             "#bd3786"
            ],
            [
             0.5555555555555556,
             "#d8576b"
            ],
            [
             0.6666666666666666,
             "#ed7953"
            ],
            [
             0.7777777777777778,
             "#fb9f3a"
            ],
            [
             0.8888888888888888,
             "#fdca26"
            ],
            [
             1,
             "#f0f921"
            ]
           ]
          },
          "colorway": [
           "#636efa",
           "#EF553B",
           "#00cc96",
           "#ab63fa",
           "#FFA15A",
           "#19d3f3",
           "#FF6692",
           "#B6E880",
           "#FF97FF",
           "#FECB52"
          ],
          "font": {
           "color": "#2a3f5f"
          },
          "geo": {
           "bgcolor": "white",
           "lakecolor": "white",
           "landcolor": "#E5ECF6",
           "showlakes": true,
           "showland": true,
           "subunitcolor": "white"
          },
          "hoverlabel": {
           "align": "left"
          },
          "hovermode": "closest",
          "mapbox": {
           "style": "light"
          },
          "paper_bgcolor": "white",
          "plot_bgcolor": "#E5ECF6",
          "polar": {
           "angularaxis": {
            "gridcolor": "white",
            "linecolor": "white",
            "ticks": ""
           },
           "bgcolor": "#E5ECF6",
           "radialaxis": {
            "gridcolor": "white",
            "linecolor": "white",
            "ticks": ""
           }
          },
          "scene": {
           "xaxis": {
            "backgroundcolor": "#E5ECF6",
            "gridcolor": "white",
            "gridwidth": 2,
            "linecolor": "white",
            "showbackground": true,
            "ticks": "",
            "zerolinecolor": "white"
           },
           "yaxis": {
            "backgroundcolor": "#E5ECF6",
            "gridcolor": "white",
            "gridwidth": 2,
            "linecolor": "white",
            "showbackground": true,
            "ticks": "",
            "zerolinecolor": "white"
           },
           "zaxis": {
            "backgroundcolor": "#E5ECF6",
            "gridcolor": "white",
            "gridwidth": 2,
            "linecolor": "white",
            "showbackground": true,
            "ticks": "",
            "zerolinecolor": "white"
           }
          },
          "shapedefaults": {
           "line": {
            "color": "#2a3f5f"
           }
          },
          "ternary": {
           "aaxis": {
            "gridcolor": "white",
            "linecolor": "white",
            "ticks": ""
           },
           "baxis": {
            "gridcolor": "white",
            "linecolor": "white",
            "ticks": ""
           },
           "bgcolor": "#E5ECF6",
           "caxis": {
            "gridcolor": "white",
            "linecolor": "white",
            "ticks": ""
           }
          },
          "title": {
           "x": 0.05
          },
          "xaxis": {
           "automargin": true,
           "gridcolor": "white",
           "linecolor": "white",
           "ticks": "",
           "title": {
            "standoff": 15
           },
           "zerolinecolor": "white",
           "zerolinewidth": 2
          },
          "yaxis": {
           "automargin": true,
           "gridcolor": "white",
           "linecolor": "white",
           "ticks": "",
           "title": {
            "standoff": 15
           },
           "zerolinecolor": "white",
           "zerolinewidth": 2
          }
         }
        },
        "title": {
         "text": "Insurance Losses by State (USA)"
        }
       }
      }
     },
     "metadata": {},
     "output_type": "display_data"
    }
   ],
   "source": [
    "# Boxplot of insurance losses by state abbreviation\n",
    "# Draw a map of insurance losses by state using plotly\n",
    "import plotly.express as px\n",
    "\n",
    "fig = px.choropleth(\n",
    "    car_crashes,\n",
    "    locations='abbrev',\n",
    "    locationmode='USA-states',\n",
    "    color='ins_losses',\n",
    "    color_continuous_scale='Reds',\n",
    "    scope='usa',\n",
    "    labels={'ins_losses': 'Insurance Losses'},\n",
    "    title='Insurance Losses by State (USA)'\n",
    ")\n",
    "fig.show()"
   ]
  },
  {
   "cell_type": "code",
   "execution_count": 7,
   "id": "d87ec252",
   "metadata": {},
   "outputs": [
    {
     "data": {
      "image/png": "[encoded data removed]",
      "text/plain": [
       "<Figure size 1000x600 with 1 Axes>"
      ]
     },
     "metadata": {},
     "output_type": "display_data"
    }
   ],
   "source": [
    "# Scatter plot: insurance premium vs insurance losses, colored by speeding rate\n",
    "plt.figure(figsize=(10, 6))\n",
    "sns.scatterplot(\n",
    "    data=car_crashes,\n",
    "    x='ins_premium',\n",
    "    y='ins_losses',\n",
    "    size='speeding',\n",
    "    hue='speeding',\n",
    "    palette='viridis',\n",
    "    sizes=(20, 200),\n",
    "    alpha=0.7\n",
    ")\n",
    "plt.title('Insurance Premium vs Losses (Size/Color: Speeding Rate)')\n",
    "plt.xlabel('Insurance Premium')\n",
    "plt.ylabel('Insurance Losses')\n",
    "plt.legend(title='Speeding Rate', bbox_to_anchor=(1.05, 1), loc='upper left')\n",
    "plt.show()"
   ]
  },
  {
   "cell_type": "code",
   "execution_count": 8,
   "id": "ef5083ff",
   "metadata": {},
   "outputs": [
    {
     "data": {
      "image/png": "[encoded data removed]",
      "text/plain": [
       "<Figure size 1250x1250 with 30 Axes>"
      ]
     },
     "metadata": {},
     "output_type": "display_data"
    }
   ],
   "source": [
    "# Pairplot to explore relationships between numeric variables\n",
    "sns.pairplot(car_crashes[['total', 'speeding', 'alcohol', 'ins_premium', 'ins_losses']])\n",
    "plt.suptitle('Pairplot of Car Crashes Numeric Features', y=1.02)\n",
    "plt.show()"
   ]
  },
  {
   "cell_type": "code",
   "execution_count": null,
   "id": "22968393",
   "metadata": {},
   "outputs": [],
   "source": []
  },
  {
   "cell_type": "markdown",
   "id": "c3971538",
   "metadata": {},
   "source": [
    "#### 3. Chlorophyll Concentration Analysis"
   ]
  },
  {
   "cell_type": "markdown",
   "id": "235eef18",
   "metadata": {},
   "source": [
    "The `data/chla_subset.csv` dataset contains chlorophyll-a (chla) predictions for various water bodies, such as lakes and reservoirs. Each row represents a measurement event, including the following columns:\n",
    "\n",
    "- `gnis_name`: Name of the water body (e.g., \"Pepacton Reservoir\", \"Lake Montauk\").\n",
    "- `comid`: Unique identifier for the water body.\n",
    "- `centroid_longitude` and `centroid_latitude`: Geographic coordinates of the water body's centroid.\n",
    "- `date_acquired`: Date when the measurement or prediction was made.\n",
    "- `predictions`: Predicted chlorophyll-a concentration (likely in µg/L).\n",
    "\n",
    "This dataset is useful for analyzing spatial and temporal patterns of chlorophyll-a, which is an important indicator of water quality and algal biomass."
   ]
  },
  {
   "cell_type": "code",
   "execution_count": 9,
   "id": "8d138dba",
   "metadata": {},
   "outputs": [
    {
     "data": {
      "text/html": [
       "<div>\n",
       "<style scoped>\n",
       "    .dataframe tbody tr th:only-of-type {\n",
       "        vertical-align: middle;\n",
       "    }\n",
       "\n",
       "    .dataframe tbody tr th {\n",
       "        vertical-align: top;\n",
       "    }\n",
       "\n",
       "    .dataframe thead th {\n",
       "        text-align: right;\n",
       "    }\n",
       "</style>\n",
       "<table border=\"1\" class=\"dataframe\">\n",
       "  <thead>\n",
       "    <tr style=\"text-align: right;\">\n",
       "      <th></th>\n",
       "      <th>gnis_name</th>\n",
       "      <th>comid</th>\n",
       "      <th>centroid_longitude</th>\n",
       "      <th>centroid_latitude</th>\n",
       "      <th>date_acquired</th>\n",
       "      <th>predictions</th>\n",
       "    </tr>\n",
       "  </thead>\n",
       "  <tbody>\n",
       "    <tr>\n",
       "      <th>0</th>\n",
       "      <td>Pepacton Reservoir</td>\n",
       "      <td>1748473</td>\n",
       "      <td>-74.870663</td>\n",
       "      <td>42.088258</td>\n",
       "      <td>2015/01/05</td>\n",
       "      <td>2.964900</td>\n",
       "    </tr>\n",
       "    <tr>\n",
       "      <th>1</th>\n",
       "      <td>Pepacton Reservoir</td>\n",
       "      <td>1748473</td>\n",
       "      <td>-74.870663</td>\n",
       "      <td>42.088258</td>\n",
       "      <td>2015/03/11</td>\n",
       "      <td>22.475675</td>\n",
       "    </tr>\n",
       "    <tr>\n",
       "      <th>2</th>\n",
       "      <td>Pepacton Reservoir</td>\n",
       "      <td>1748473</td>\n",
       "      <td>-74.870663</td>\n",
       "      <td>42.088258</td>\n",
       "      <td>2015/03/02</td>\n",
       "      <td>9.916317</td>\n",
       "    </tr>\n",
       "    <tr>\n",
       "      <th>3</th>\n",
       "      <td>Pepacton Reservoir</td>\n",
       "      <td>1748473</td>\n",
       "      <td>-74.870663</td>\n",
       "      <td>42.088258</td>\n",
       "      <td>2015/02/23</td>\n",
       "      <td>22.137733</td>\n",
       "    </tr>\n",
       "    <tr>\n",
       "      <th>4</th>\n",
       "      <td>Pepacton Reservoir</td>\n",
       "      <td>1748473</td>\n",
       "      <td>-74.870663</td>\n",
       "      <td>42.088258</td>\n",
       "      <td>2015/03/11</td>\n",
       "      <td>22.475675</td>\n",
       "    </tr>\n",
       "  </tbody>\n",
       "</table>\n",
       "</div>"
      ],
      "text/plain": [
       "            gnis_name    comid  centroid_longitude  centroid_latitude  \\\n",
       "0  Pepacton Reservoir  1748473          -74.870663          42.088258   \n",
       "1  Pepacton Reservoir  1748473          -74.870663          42.088258   \n",
       "2  Pepacton Reservoir  1748473          -74.870663          42.088258   \n",
       "3  Pepacton Reservoir  1748473          -74.870663          42.088258   \n",
       "4  Pepacton Reservoir  1748473          -74.870663          42.088258   \n",
       "\n",
       "  date_acquired  predictions  \n",
       "0    2015/01/05     2.964900  \n",
       "1    2015/03/11    22.475675  \n",
       "2    2015/03/02     9.916317  \n",
       "3    2015/02/23    22.137733  \n",
       "4    2015/03/11    22.475675  "
      ]
     },
     "metadata": {},
     "output_type": "display_data"
    },
    {
     "name": "stdout",
     "output_type": "stream",
     "text": [
      "<class 'pandas.core.frame.DataFrame'>\n",
      "RangeIndex: 7177 entries, 0 to 7176\n",
      "Data columns (total 6 columns):\n",
      " #   Column              Non-Null Count  Dtype  \n",
      "---  ------              --------------  -----  \n",
      " 0   gnis_name           7177 non-null   object \n",
      " 1   comid               7177 non-null   int64  \n",
      " 2   centroid_longitude  7177 non-null   float64\n",
      " 3   centroid_latitude   7177 non-null   float64\n",
      " 4   date_acquired       7177 non-null   object \n",
      " 5   predictions         7177 non-null   float64\n",
      "dtypes: float64(3), int64(1), object(2)\n",
      "memory usage: 336.6+ KB\n"
     ]
    },
    {
     "data": {
      "text/html": [
       "<div>\n",
       "<style scoped>\n",
       "    .dataframe tbody tr th:only-of-type {\n",
       "        vertical-align: middle;\n",
       "    }\n",
       "\n",
       "    .dataframe tbody tr th {\n",
       "        vertical-align: top;\n",
       "    }\n",
       "\n",
       "    .dataframe thead th {\n",
       "        text-align: right;\n",
       "    }\n",
       "</style>\n",
       "<table border=\"1\" class=\"dataframe\">\n",
       "  <thead>\n",
       "    <tr style=\"text-align: right;\">\n",
       "      <th></th>\n",
       "      <th>gnis_name</th>\n",
       "      <th>comid</th>\n",
       "      <th>centroid_longitude</th>\n",
       "      <th>centroid_latitude</th>\n",
       "      <th>date_acquired</th>\n",
       "      <th>predictions</th>\n",
       "    </tr>\n",
       "  </thead>\n",
       "  <tbody>\n",
       "    <tr>\n",
       "      <th>count</th>\n",
       "      <td>7177</td>\n",
       "      <td>7.177000e+03</td>\n",
       "      <td>7177.000000</td>\n",
       "      <td>7177.000000</td>\n",
       "      <td>7177</td>\n",
       "      <td>7177.000000</td>\n",
       "    </tr>\n",
       "    <tr>\n",
       "      <th>unique</th>\n",
       "      <td>20</td>\n",
       "      <td>NaN</td>\n",
       "      <td>NaN</td>\n",
       "      <td>NaN</td>\n",
       "      <td>1175</td>\n",
       "      <td>NaN</td>\n",
       "    </tr>\n",
       "    <tr>\n",
       "      <th>top</th>\n",
       "      <td>Lake Tiorati</td>\n",
       "      <td>NaN</td>\n",
       "      <td>NaN</td>\n",
       "      <td>NaN</td>\n",
       "      <td>2016/08/28</td>\n",
       "      <td>NaN</td>\n",
       "    </tr>\n",
       "    <tr>\n",
       "      <th>freq</th>\n",
       "      <td>541</td>\n",
       "      <td>NaN</td>\n",
       "      <td>NaN</td>\n",
       "      <td>NaN</td>\n",
       "      <td>28</td>\n",
       "      <td>NaN</td>\n",
       "    </tr>\n",
       "    <tr>\n",
       "      <th>mean</th>\n",
       "      <td>NaN</td>\n",
       "      <td>6.811204e+06</td>\n",
       "      <td>-74.747912</td>\n",
       "      <td>41.779994</td>\n",
       "      <td>NaN</td>\n",
       "      <td>9.178677</td>\n",
       "    </tr>\n",
       "    <tr>\n",
       "      <th>std</th>\n",
       "      <td>NaN</td>\n",
       "      <td>1.760085e+06</td>\n",
       "      <td>1.825983</td>\n",
       "      <td>0.538184</td>\n",
       "      <td>NaN</td>\n",
       "      <td>5.440479</td>\n",
       "    </tr>\n",
       "    <tr>\n",
       "      <th>min</th>\n",
       "      <td>NaN</td>\n",
       "      <td>1.748473e+06</td>\n",
       "      <td>-79.725756</td>\n",
       "      <td>41.060454</td>\n",
       "      <td>NaN</td>\n",
       "      <td>1.979436</td>\n",
       "    </tr>\n",
       "    <tr>\n",
       "      <th>25%</th>\n",
       "      <td>NaN</td>\n",
       "      <td>6.224754e+06</td>\n",
       "      <td>-74.897018</td>\n",
       "      <td>41.330344</td>\n",
       "      <td>NaN</td>\n",
       "      <td>4.740728</td>\n",
       "    </tr>\n",
       "    <tr>\n",
       "      <th>50%</th>\n",
       "      <td>NaN</td>\n",
       "      <td>6.229626e+06</td>\n",
       "      <td>-74.091187</td>\n",
       "      <td>41.415981</td>\n",
       "      <td>NaN</td>\n",
       "      <td>7.812181</td>\n",
       "    </tr>\n",
       "    <tr>\n",
       "      <th>75%</th>\n",
       "      <td>NaN</td>\n",
       "      <td>8.100185e+06</td>\n",
       "      <td>-73.643377</td>\n",
       "      <td>42.249137</td>\n",
       "      <td>NaN</td>\n",
       "      <td>12.339139</td>\n",
       "    </tr>\n",
       "    <tr>\n",
       "      <th>max</th>\n",
       "      <td>NaN</td>\n",
       "      <td>9.494728e+06</td>\n",
       "      <td>-71.922783</td>\n",
       "      <td>42.860956</td>\n",
       "      <td>NaN</td>\n",
       "      <td>30.089158</td>\n",
       "    </tr>\n",
       "  </tbody>\n",
       "</table>\n",
       "</div>"
      ],
      "text/plain": [
       "           gnis_name         comid  centroid_longitude  centroid_latitude  \\\n",
       "count           7177  7.177000e+03         7177.000000        7177.000000   \n",
       "unique            20           NaN                 NaN                NaN   \n",
       "top     Lake Tiorati           NaN                 NaN                NaN   \n",
       "freq             541           NaN                 NaN                NaN   \n",
       "mean             NaN  6.811204e+06          -74.747912          41.779994   \n",
       "std              NaN  1.760085e+06            1.825983           0.538184   \n",
       "min              NaN  1.748473e+06          -79.725756          41.060454   \n",
       "25%              NaN  6.224754e+06          -74.897018          41.330344   \n",
       "50%              NaN  6.229626e+06          -74.091187          41.415981   \n",
       "75%              NaN  8.100185e+06          -73.643377          42.249137   \n",
       "max              NaN  9.494728e+06          -71.922783          42.860956   \n",
       "\n",
       "       date_acquired  predictions  \n",
       "count           7177  7177.000000  \n",
       "unique          1175          NaN  \n",
       "top       2016/08/28          NaN  \n",
       "freq              28          NaN  \n",
       "mean             NaN     9.178677  \n",
       "std              NaN     5.440479  \n",
       "min              NaN     1.979436  \n",
       "25%              NaN     4.740728  \n",
       "50%              NaN     7.812181  \n",
       "75%              NaN    12.339139  \n",
       "max              NaN    30.089158  "
      ]
     },
     "metadata": {},
     "output_type": "display_data"
    }
   ],
   "source": [
    "# Load and describe the chla dataset\n",
    "chla = pd.read_csv('data/chla_subset.csv')\n",
    "\n",
    "# Show the first few rows\n",
    "display(chla.head())\n",
    "\n",
    "# Show basic info\n",
    "chla.info()\n",
    "\n",
    "# Show summary statistics\n",
    "display(chla.describe(include='all'))"
   ]
  },
  {
   "cell_type": "code",
   "execution_count": 10,
   "id": "cf8dda2e",
   "metadata": {},
   "outputs": [
    {
     "data": {
      "image/png": "[encoded data removed]",
      "text/plain": [
       "<Figure size 640x480 with 1 Axes>"
      ]
     },
     "metadata": {},
     "output_type": "display_data"
    }
   ],
   "source": [
    "chla['predictions'].plot.hist(bins=30, edgecolor='black')\n",
    "plt.axvline(x=10, color='red', linestyle='--', label='Acceptable Value')\n",
    "plt.title('Distribution of Chlorophyll-a Predictions')\n",
    "plt.xlabel('Chlorophyll-a (µg/L)')\n",
    "plt.ylabel('Frequency')\n",
    "plt.legend()\n",
    "plt.show()"
   ]
  },
  {
   "cell_type": "code",
   "execution_count": null,
   "id": "d5a906c4",
   "metadata": {},
   "outputs": [],
   "source": []
  },
  {
   "cell_type": "markdown",
   "id": "ecaacb88",
   "metadata": {},
   "source": [
    "### Introducing Voila!"
   ]
  },
  {
   "cell_type": "markdown",
   "id": "04d515fd-1560-4839-a44b-0711faf15f86",
   "metadata": {},
   "source": [
    "Voila turns Jupyter notebooks into standalone web applications by running the notebook and serving only the output (hiding the code cells). It's perfect for sharing interactive dashboards and applications with non-technical users."
   ]
  },
  {
   "cell_type": "markdown",
   "id": "2d7b61c7-87f3-4b81-b9ad-f584c5bf2ee4",
   "metadata": {},
   "source": [
    "#### Deploying with Voila\n",
    "\n",
    "Now let's learn how to deploy this interactive notebook as a web application using Voila.\n",
    "\n",
    "### What happens when you use Voila?\n",
    "\n",
    "1. **Code cells are hidden** - Only the output (widgets and plots) are displayed\n",
    "2. **Interactive widgets still work** - Users can interact with sliders, buttons, etc.\n",
    "3. **No code editing** - Users can't modify or see the underlying code\n",
    "4. **Clean interface** - Professional-looking web application\n",
    "\n",
    "### Running Voila\n",
    "\n",
    "There are several ways to run Voila but the easiest is from the CLI:"
   ]
  },
  {
   "cell_type": "markdown",
   "id": "da5b8fdd-2475-438d-a2f4-82966ad11585",
   "metadata": {},
   "source": [
    "```bash\n",
    "# Basic usage - serve this notebook\n",
    "voila 04_jupyter_voila.ipynb\n",
    "\n",
    "# Serve all notebooks in current directory\n",
    "voila .\n",
    "\n",
    "# Customize port and host\n",
    "voila 04_jupyter_voila.ipynb --port=8867 --Voila.ip=0.0.0.0\n",
    "\n",
    "# Strip source code completely\n",
    "voila 04_jupyter_voila.ipynb --strip_sources=True\n",
    "```"
   ]
  },
  {
   "cell_type": "code",
   "execution_count": null,
   "id": "486b936e-149b-4ad7-b178-0438ab78c1a1",
   "metadata": {},
   "outputs": [],
   "source": []
  },
  {
   "cell_type": "markdown",
   "id": "59b07fcf-b3c9-4d92-8d1d-6c2405e09ee4",
   "metadata": {},
   "source": [
    "## Try for yourself!"
   ]
  },
  {
   "cell_type": "code",
   "execution_count": null,
   "id": "b2c7d144-4e4c-491c-b6f8-1afe4e904984",
   "metadata": {},
   "outputs": [],
   "source": []
  }
 ],
 "metadata": {
  "kernelspec": {
   "display_name": "showyourwork",
   "language": "python",
   "name": "showyourwork"
  },
  "language_info": {
   "codemirror_mode": {
    "name": "ipython",
    "version": 3
   },
   "file_extension": ".py",
   "mimetype": "text/x-python",
   "name": "python",
   "nbconvert_exporter": "python",
   "pygments_lexer": "ipython3",
   "version": "3.13.3"
  },
  "panel-cell-order": [
   "7f0f1391-a1e1-494e-9911-495990d09d71",
   "07adf396-ba3a-417f-9cf7-912498d8803d",
   "0689046b-e327-4c73-965a-4c63af8af2e1"
  ]
 },
 "nbformat": 4,
 "nbformat_minor": 5
}
