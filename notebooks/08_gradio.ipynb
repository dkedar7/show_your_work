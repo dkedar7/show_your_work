{
 "cells": [
  {
   "cell_type": "markdown",
   "metadata": {},
   "source": [
    "# Building Web Applications with Gradio\n",
    "\n",
    "This tutorial will guide you through using Gradio to build interactive web applications from your Python functions. We'll cover Gradio's design philosophy, main components, and deployment options.\n",
    "\n",
    "## What is Gradio?\n",
    "\n",
    "Gradio is an open-source Python library that makes it easy to create customizable UI components for machine learning models, APIs, or any Python function. It's designed to make sharing your work as simple as possible.\n",
    "\n",
    "### Design Philosophy\n",
    "\n",
    "Gradio follows several key principles:\n",
    "\n",
    "1. **Simplicity First**: Convert any Python function into a web interface with just a few lines of code\n",
    "2. **Zero Web Development Knowledge Required**: No HTML, CSS, or JavaScript needed\n",
    "3. **Rapid Prototyping**: Get a working demo in minutes, not hours\n",
    "4. **Flexible Components**: Rich set of input/output components for different data types\n",
    "5. **Easy Sharing**: Built-in sharing capabilities and deployment options\n",
    "\n",
    "### When to Use Gradio\n",
    "\n",
    "Gradio is particularly well-suited for:\n",
    "- Machine learning model demos\n",
    "- Data analysis tools\n",
    "- Image/audio processing applications\n",
    "- API testing interfaces\n",
    "- Educational demonstrations\n",
    "- Quick prototypes and proof-of-concepts"
   ]
  },
  {
   "cell_type": "markdown",
   "metadata": {},
   "source": [
    "## Installation and Setup\n",
    "\n",
    "First, let's install Gradio and import the necessary libraries:"
   ]
  },
  {
   "cell_type": "code",
   "execution_count": 2,
   "metadata": {},
   "outputs": [],
   "source": [
    "import gradio as gr\n",
    "import pandas as pd\n",
    "import numpy as np\n",
    "import matplotlib.pyplot as plt\n",
    "import seaborn as sns\n",
    "from PIL import Image\n",
    "import io\n",
    "import base64"
   ]
  },
  {
   "cell_type": "markdown",
   "metadata": {},
   "source": [
    "## Core Concepts\n",
    "\n",
    "### 1. The Basic Pattern\n",
    "\n",
    "Every Gradio app follows this pattern:\n",
    "1. Define a Python function\n",
    "2. Create an interface with `gr.Interface()`\n",
    "3. Launch the app with `.launch()`\n",
    "\n",
    "Let's start with the classic \"Hello World\" example:"
   ]
  },
  {
   "cell_type": "code",
   "execution_count": 3,
   "metadata": {},
   "outputs": [
    {
     "name": "stdout",
     "output_type": "stream",
     "text": [
      "* Running on local URL:  http://127.0.0.1:7860\n",
      "* To create a public link, set `share=True` in `launch()`.\n"
     ]
    },
    {
     "data": {
      "text/html": [
       "<div><iframe src=\"http://127.0.0.1:7860/\" width=\"100%\" height=\"500\" allow=\"autoplay; camera; microphone; clipboard-read; clipboard-write;\" frameborder=\"0\" allowfullscreen></iframe></div>"
      ],
      "text/plain": [
       "<IPython.core.display.HTML object>"
      ]
     },
     "metadata": {},
     "output_type": "display_data"
    },
    {
     "data": {
      "text/plain": []
     },
     "execution_count": 3,
     "metadata": {},
     "output_type": "execute_result"
    }
   ],
   "source": [
    "def greet(name):\n",
    "    return f\"Hello, {name}!\"\n",
    "\n",
    "# Create the interface\n",
    "demo = gr.Interface(\n",
    "    fn=greet,\n",
    "    inputs=\"text\",\n",
    "    outputs=\"text\",\n",
    "    title=\"Hello World App\",\n",
    "    description=\"Enter your name to get a greeting!\"\n",
    ")\n",
    "\n",
    "# Launch the app\n",
    "demo.launch()"
   ]
  },
  {
   "cell_type": "markdown",
   "metadata": {},
   "source": [
    "### 2. Input and Output Components\n",
    "\n",
    "Gradio provides a rich set of components for different data types:"
   ]
  },
  {
   "cell_type": "code",
   "execution_count": 6,
   "metadata": {},
   "outputs": [
    {
     "name": "stdout",
     "output_type": "stream",
     "text": [
      "* Running on local URL:  http://127.0.0.1:7863\n",
      "* Running on public URL: https://dc1ed76f57f50d3789.gradio.live\n",
      "\n",
      "This share link expires in 1 week. For free permanent hosting and GPU upgrades, run `gradio deploy` from the terminal in the working directory to deploy to Hugging Face Spaces (https://huggingface.co/spaces)\n"
     ]
    },
    {
     "data": {
      "text/html": [
       "<div><iframe src=\"https://dc1ed76f57f50d3789.gradio.live\" width=\"100%\" height=\"500\" allow=\"autoplay; camera; microphone; clipboard-read; clipboard-write;\" frameborder=\"0\" allowfullscreen></iframe></div>"
      ],
      "text/plain": [
       "<IPython.core.display.HTML object>"
      ]
     },
     "metadata": {},
     "output_type": "display_data"
    },
    {
     "data": {
      "text/plain": []
     },
     "execution_count": 6,
     "metadata": {},
     "output_type": "execute_result"
    }
   ],
   "source": [
    "def calculator(operation, num1, num2):\n",
    "    if operation == \"Add\":\n",
    "        return num1 + num2\n",
    "    elif operation == \"Subtract\":\n",
    "        return num1 - num2\n",
    "    elif operation == \"Multiply\":\n",
    "        return num1 * num2\n",
    "    elif operation == \"Divide\":\n",
    "        if num2 != 0:\n",
    "            return num1 / num2\n",
    "        else:\n",
    "            return \"Error: Division by zero!\"\n",
    "\n",
    "calculator_demo = gr.Interface(\n",
    "    fn=calculator,\n",
    "    inputs=[\n",
    "        gr.Dropdown([\"Add\", \"Subtract\", \"Multiply\", \"Divide\"], label=\"Operation\"),\n",
    "        gr.Number(label=\"First Number\"),\n",
    "        gr.Number(label=\"Second Number\")\n",
    "    ],\n",
    "    outputs=gr.Number(label=\"Result\"),\n",
    "    title=\"Simple Calculator\",\n",
    "    description=\"Perform basic arithmetic operations\"\n",
    ")\n",
    "\n",
    "calculator_demo.launch(share=True)"
   ]
  },
  {
   "cell_type": "markdown",
   "metadata": {},
   "source": [
    "## Main Components\n",
    "\n",
    "### Input Components\n",
    "\n",
    "- **Text**: `gr.Textbox()` - for text input\n",
    "- **Number**: `gr.Number()` - for numeric input\n",
    "- **Slider**: `gr.Slider()` - for selecting values within a range\n",
    "- **Dropdown**: `gr.Dropdown()` - for selecting from options\n",
    "- **Checkbox**: `gr.Checkbox()` - for boolean input\n",
    "- **Radio**: `gr.Radio()` - for selecting one option\n",
    "- **Image**: `gr.Image()` - for image upload\n",
    "- **Audio**: `gr.Audio()` - for audio upload\n",
    "- **File**: `gr.File()` - for file upload\n",
    "\n",
    "### Output Components\n",
    "\n",
    "- **Text**: `gr.Textbox()` - for text output\n",
    "- **Label**: `gr.Label()` - for classification results\n",
    "- **Image**: `gr.Image()` - for image output\n",
    "- **Plot**: `gr.Plot()` - for matplotlib plots\n",
    "- **HTML**: `gr.HTML()` - for HTML content\n",
    "- **JSON**: `gr.JSON()` - for JSON data\n",
    "- **Dataframe**: `gr.Dataframe()` - for tabular data"
   ]
  },
  {
   "cell_type": "markdown",
   "metadata": {},
   "source": [
    "## Practical Examples\n",
    "\n",
    "### Example 1: Data Analysis Tool\n",
    "\n",
    "Let's create a data analysis tool using the penguins dataset:"
   ]
  },
  {
   "cell_type": "code",
   "execution_count": 4,
   "metadata": {},
   "outputs": [
    {
     "name": "stdout",
     "output_type": "stream",
     "text": [
      "* Running on local URL:  http://127.0.0.1:7861\n",
      "* To create a public link, set `share=True` in `launch()`.\n"
     ]
    },
    {
     "data": {
      "text/html": [
       "<div><iframe src=\"http://127.0.0.1:7861/\" width=\"100%\" height=\"500\" allow=\"autoplay; camera; microphone; clipboard-read; clipboard-write;\" frameborder=\"0\" allowfullscreen></iframe></div>"
      ],
      "text/plain": [
       "<IPython.core.display.HTML object>"
      ]
     },
     "metadata": {},
     "output_type": "display_data"
    },
    {
     "data": {
      "text/plain": []
     },
     "execution_count": 4,
     "metadata": {},
     "output_type": "execute_result"
    }
   ],
   "source": [
    "# Load the penguins dataset\n",
    "penguins = pd.read_csv('data/penguins.csv')\n",
    "\n",
    "def analyze_penguins(species, plot_type):\n",
    "    # Filter data if specific species selected\n",
    "    if species != \"All\":\n",
    "        data = penguins[penguins['species'] == species]\n",
    "    else:\n",
    "        data = penguins\n",
    "    \n",
    "    # Create plot\n",
    "    plt.figure(figsize=(10, 6))\n",
    "    \n",
    "    if plot_type == \"Body Mass Distribution\":\n",
    "        if species == \"All\":\n",
    "            sns.histplot(data=data, x='body_mass_g', hue='species', bins=20)\n",
    "        else:\n",
    "            sns.histplot(data=data, x='body_mass_g', bins=20)\n",
    "        plt.title(f'Body Mass Distribution - {species}')\n",
    "        plt.xlabel('Body Mass (g)')\n",
    "        \n",
    "    elif plot_type == \"Bill Length vs Depth\":\n",
    "        if species == \"All\":\n",
    "            sns.scatterplot(data=data, x='bill_length_mm', y='bill_depth_mm', hue='species')\n",
    "        else:\n",
    "            sns.scatterplot(data=data, x='bill_length_mm', y='bill_depth_mm')\n",
    "        plt.title(f'Bill Length vs Depth - {species}')\n",
    "        plt.xlabel('Bill Length (mm)')\n",
    "        plt.ylabel('Bill Depth (mm)')\n",
    "    \n",
    "    plt.tight_layout()\n",
    "    \n",
    "    # Return both plot and summary statistics\n",
    "    summary = data.describe()\n",
    "    \n",
    "    return plt.gcf(), summary\n",
    "\n",
    "# Get unique species for dropdown\n",
    "species_options = [\"All\"] + list(penguins['species'].unique())\n",
    "\n",
    "penguin_analyzer = gr.Interface(\n",
    "    fn=analyze_penguins,\n",
    "    inputs=[\n",
    "        gr.Dropdown(species_options, value=\"All\", label=\"Species\"),\n",
    "        gr.Radio([\"Body Mass Distribution\", \"Bill Length vs Depth\"], \n",
    "                value=\"Body Mass Distribution\", label=\"Plot Type\")\n",
    "    ],\n",
    "    outputs=[\n",
    "        gr.Plot(label=\"Visualization\"),\n",
    "        gr.Dataframe(label=\"Summary Statistics\")\n",
    "    ],\n",
    "    title=\"Penguin Data Explorer\",\n",
    "    description=\"Explore penguin data with interactive visualizations\"\n",
    ")\n",
    "\n",
    "penguin_analyzer.launch()"
   ]
  },
  {
   "cell_type": "markdown",
   "metadata": {},
   "source": [
    "### Example 2: Image Processing Tool\n",
    "\n",
    "Let's create a simple image processing application:"
   ]
  },
  {
   "cell_type": "code",
   "execution_count": null,
   "metadata": {},
   "outputs": [],
   "source": [
    "def process_image(image, brightness, contrast, rotate):\n",
    "    if image is None:\n",
    "        return None\n",
    "    \n",
    "    # Convert to PIL Image if needed\n",
    "    if isinstance(image, np.ndarray):\n",
    "        image = Image.fromarray(image)\n",
    "    \n",
    "    # Apply brightness adjustment\n",
    "    from PIL import ImageEnhance\n",
    "    enhancer = ImageEnhance.Brightness(image)\n",
    "    image = enhancer.enhance(brightness)\n",
    "    \n",
    "    # Apply contrast adjustment\n",
    "    enhancer = ImageEnhance.Contrast(image)\n",
    "    image = enhancer.enhance(contrast)\n",
    "    \n",
    "    # Apply rotation\n",
    "    if rotate != 0:\n",
    "        image = image.rotate(rotate, expand=True)\n",
    "    \n",
    "    return image\n",
    "\n",
    "image_processor = gr.Interface(\n",
    "    fn=process_image,\n",
    "    inputs=[\n",
    "        gr.Image(label=\"Upload Image\"),\n",
    "        gr.Slider(0.1, 2.0, value=1.0, step=0.1, label=\"Brightness\"),\n",
    "        gr.Slider(0.1, 2.0, value=1.0, step=0.1, label=\"Contrast\"),\n",
    "        gr.Slider(-180, 180, value=0, step=15, label=\"Rotation (degrees)\")\n",
    "    ],\n",
    "    outputs=gr.Image(label=\"Processed Image\"),\n",
    "    title=\"Image Processor\",\n",
    "    description=\"Upload an image and adjust brightness, contrast, and rotation\"\n",
    ")\n",
    "\n",
    "image_processor.launch()"
   ]
  },
  {
   "cell_type": "markdown",
   "metadata": {},
   "source": [
    "### Example 3: Text Analysis Tool\n",
    "\n",
    "Let's create a text analysis application:"
   ]
  },
  {
   "cell_type": "code",
   "execution_count": 7,
   "metadata": {},
   "outputs": [
    {
     "name": "stdout",
     "output_type": "stream",
     "text": [
      "* Running on local URL:  http://127.0.0.1:7864\n",
      "* To create a public link, set `share=True` in `launch()`.\n"
     ]
    },
    {
     "data": {
      "text/html": [
       "<div><iframe src=\"http://127.0.0.1:7864/\" width=\"100%\" height=\"500\" allow=\"autoplay; camera; microphone; clipboard-read; clipboard-write;\" frameborder=\"0\" allowfullscreen></iframe></div>"
      ],
      "text/plain": [
       "<IPython.core.display.HTML object>"
      ]
     },
     "metadata": {},
     "output_type": "display_data"
    },
    {
     "data": {
      "text/plain": []
     },
     "execution_count": 7,
     "metadata": {},
     "output_type": "execute_result"
    }
   ],
   "source": [
    "import re\n",
    "from collections import Counter\n",
    "\n",
    "def analyze_text(text):\n",
    "    if not text:\n",
    "        return \"Please enter some text to analyze.\", {}, \"\"\n",
    "    \n",
    "    # Basic statistics\n",
    "    word_count = len(text.split())\n",
    "    char_count = len(text)\n",
    "    sentence_count = len(re.findall(r'[.!?]+', text))\n",
    "    paragraph_count = len([p for p in text.split('\\n\\n') if p.strip()])\n",
    "    \n",
    "    # Word frequency\n",
    "    words = re.findall(r'\\w+', text.lower())\n",
    "    word_freq = Counter(words)\n",
    "    top_words = dict(word_freq.most_common(10))\n",
    "    \n",
    "    # Summary statistics\n",
    "    stats = f\"\"\"\n",
    "    📊 Text Analysis Results:\n",
    "    \n",
    "    • Word Count: {word_count:,}\n",
    "    • Character Count: {char_count:,}\n",
    "    • Sentence Count: {sentence_count:,}\n",
    "    • Paragraph Count: {paragraph_count:,}\n",
    "    • Average Words per Sentence: {word_count/max(sentence_count, 1):.1f}\n",
    "    • Average Characters per Word: {char_count/max(word_count, 1):.1f}\n",
    "    \"\"\"\n",
    "    \n",
    "    # Create word frequency chart\n",
    "    if top_words:\n",
    "        plt.figure(figsize=(10, 6))\n",
    "        words_list = list(top_words.keys())\n",
    "        counts_list = list(top_words.values())\n",
    "        \n",
    "        plt.bar(words_list, counts_list)\n",
    "        plt.title('Top 10 Most Frequent Words')\n",
    "        plt.xlabel('Words')\n",
    "        plt.ylabel('Frequency')\n",
    "        plt.xticks(rotation=45)\n",
    "        plt.tight_layout()\n",
    "        \n",
    "        chart = plt.gcf()\n",
    "    else:\n",
    "        chart = None\n",
    "    \n",
    "    return stats, top_words, chart\n",
    "\n",
    "text_analyzer = gr.Interface(\n",
    "    fn=analyze_text,\n",
    "    inputs=gr.Textbox(\n",
    "        lines=10, \n",
    "        placeholder=\"Enter your text here for analysis...\",\n",
    "        label=\"Text Input\"\n",
    "    ),\n",
    "    outputs=[\n",
    "        gr.Textbox(label=\"Statistics\"),\n",
    "        gr.JSON(label=\"Top 10 Words\"),\n",
    "        gr.Plot(label=\"Word Frequency Chart\")\n",
    "    ],\n",
    "    title=\"Text Analyzer\",\n",
    "    description=\"Analyze text for word count, frequency, and other statistics\",\n",
    "    examples=[\n",
    "        [\"This is a sample text for analysis. It contains multiple sentences and demonstrates various text analysis features.\"],\n",
    "        [\"Machine learning is a subset of artificial intelligence. It focuses on algorithms that can learn from data.\"]\n",
    "    ]\n",
    ")\n",
    "\n",
    "text_analyzer.launch()"
   ]
  },
  {
   "cell_type": "markdown",
   "metadata": {},
   "source": [
    "## Advanced Features\n",
    "\n",
    "### 1. Multiple Inputs and Outputs\n",
    "\n",
    "Gradio can handle functions with multiple inputs and outputs:"
   ]
  },
  {
   "cell_type": "code",
   "execution_count": 8,
   "metadata": {},
   "outputs": [
    {
     "name": "stdout",
     "output_type": "stream",
     "text": [
      "* Running on local URL:  http://127.0.0.1:7865\n",
      "* To create a public link, set `share=True` in `launch()`.\n"
     ]
    },
    {
     "data": {
      "text/html": [
       "<div><iframe src=\"http://127.0.0.1:7865/\" width=\"100%\" height=\"500\" allow=\"autoplay; camera; microphone; clipboard-read; clipboard-write;\" frameborder=\"0\" allowfullscreen></iframe></div>"
      ],
      "text/plain": [
       "<IPython.core.display.HTML object>"
      ]
     },
     "metadata": {},
     "output_type": "display_data"
    },
    {
     "data": {
      "text/plain": []
     },
     "execution_count": 8,
     "metadata": {},
     "output_type": "execute_result"
    }
   ],
   "source": [
    "def data_summary_and_plot(csv_file, column_name, plot_type):\n",
    "    if csv_file is None:\n",
    "        return \"Please upload a CSV file\", None, None\n",
    "    \n",
    "    try:\n",
    "        df = pd.read_csv(csv_file.name)\n",
    "        \n",
    "        if column_name not in df.columns:\n",
    "            return f\"Column '{column_name}' not found in the dataset\", None, df.head()\n",
    "        \n",
    "        # Generate summary\n",
    "        summary = f\"\"\"\n",
    "        Dataset Summary:\n",
    "        • Shape: {df.shape[0]} rows × {df.shape[1]} columns\n",
    "        • Column '{column_name}' statistics:\n",
    "          - Mean: {df[column_name].mean():.2f}\n",
    "          - Median: {df[column_name].median():.2f}\n",
    "          - Std Dev: {df[column_name].std():.2f}\n",
    "          - Min: {df[column_name].min():.2f}\n",
    "          - Max: {df[column_name].max():.2f}\n",
    "        \"\"\"\n",
    "        \n",
    "        # Generate plot\n",
    "        plt.figure(figsize=(10, 6))\n",
    "        if plot_type == \"Histogram\":\n",
    "            plt.hist(df[column_name].dropna(), bins=20, alpha=0.7)\n",
    "            plt.title(f'Distribution of {column_name}')\n",
    "        elif plot_type == \"Box Plot\":\n",
    "            plt.boxplot(df[column_name].dropna())\n",
    "            plt.title(f'Box Plot of {column_name}')\n",
    "        \n",
    "        plt.xlabel(column_name)\n",
    "        plt.tight_layout()\n",
    "        \n",
    "        return summary, plt.gcf(), df.head(10)\n",
    "        \n",
    "    except Exception as e:\n",
    "        return f\"Error processing file: {str(e)}\", None, None\n",
    "\n",
    "csv_analyzer = gr.Interface(\n",
    "    fn=data_summary_and_plot,\n",
    "    inputs=[\n",
    "        gr.File(label=\"Upload CSV File\", file_types=[\".csv\"]),\n",
    "        gr.Textbox(label=\"Column Name\", placeholder=\"Enter column name for analysis\"),\n",
    "        gr.Radio([\"Histogram\", \"Box Plot\"], value=\"Histogram\", label=\"Plot Type\")\n",
    "    ],\n",
    "    outputs=[\n",
    "        gr.Textbox(label=\"Summary\"),\n",
    "        gr.Plot(label=\"Visualization\"),\n",
    "        gr.Dataframe(label=\"Data Preview\")\n",
    "    ],\n",
    "    title=\"CSV Data Analyzer\",\n",
    "    description=\"Upload a CSV file and analyze a specific column\"\n",
    ")\n",
    "\n",
    "csv_analyzer.launch()"
   ]
  },
  {
   "cell_type": "markdown",
   "metadata": {},
   "source": [
    "### 2. Using Gradio Blocks for Custom Layouts\n",
    "\n",
    "For more control over the layout, you can use `gr.Blocks()`:"
   ]
  },
  {
   "cell_type": "code",
   "execution_count": 9,
   "metadata": {},
   "outputs": [
    {
     "name": "stdout",
     "output_type": "stream",
     "text": [
      "* Running on local URL:  http://127.0.0.1:7866\n",
      "* To create a public link, set `share=True` in `launch()`.\n"
     ]
    },
    {
     "data": {
      "text/html": [
       "<div><iframe src=\"http://127.0.0.1:7866/\" width=\"100%\" height=\"500\" allow=\"autoplay; camera; microphone; clipboard-read; clipboard-write;\" frameborder=\"0\" allowfullscreen></iframe></div>"
      ],
      "text/plain": [
       "<IPython.core.display.HTML object>"
      ]
     },
     "metadata": {},
     "output_type": "display_data"
    },
    {
     "data": {
      "text/plain": []
     },
     "execution_count": 9,
     "metadata": {},
     "output_type": "execute_result"
    }
   ],
   "source": [
    "def simple_math(operation, a, b):\n",
    "    if operation == \"+\":\n",
    "        return a + b\n",
    "    elif operation == \"-\":\n",
    "        return a - b\n",
    "    elif operation == \"*\":\n",
    "        return a * b\n",
    "    elif operation == \"/\":\n",
    "        return a / b if b != 0 else \"Division by zero!\"\n",
    "\n",
    "with gr.Blocks(title=\"Advanced Calculator\") as calculator_blocks:\n",
    "    gr.Markdown(\"# 🧮 Advanced Calculator\")\n",
    "    gr.Markdown(\"Perform mathematical operations with a custom interface\")\n",
    "    \n",
    "    with gr.Row():\n",
    "        with gr.Column():\n",
    "            num1 = gr.Number(label=\"First Number\", value=0)\n",
    "            operation = gr.Dropdown([\"+\", \"-\", \"*\", \"/\"], label=\"Operation\", value=\"+\")\n",
    "            num2 = gr.Number(label=\"Second Number\", value=0)\n",
    "            calculate_btn = gr.Button(\"Calculate\", variant=\"primary\")\n",
    "        \n",
    "        with gr.Column():\n",
    "            result = gr.Number(label=\"Result\")\n",
    "            gr.Markdown(\"### Quick Examples\")\n",
    "            gr.Examples(\n",
    "                examples=[\n",
    "                    [\"+\", 10, 5],\n",
    "                    [\"-\", 10, 3],\n",
    "                    [\"*\", 7, 8],\n",
    "                    [\"/\", 15, 3]\n",
    "                ],\n",
    "                inputs=[operation, num1, num2]\n",
    "            )\n",
    "    \n",
    "    calculate_btn.click(\n",
    "        fn=simple_math,\n",
    "        inputs=[operation, num1, num2],\n",
    "        outputs=result\n",
    "    )\n",
    "\n",
    "calculator_blocks.launch()"
   ]
  },
  {
   "cell_type": "markdown",
   "metadata": {},
   "source": [
    "## Best Practices\n",
    "\n",
    "### 1. Error Handling\n",
    "\n",
    "Always handle potential errors in your functions:\n",
    "\n",
    "```python\n",
    "def safe_function(input_data):\n",
    "    try:\n",
    "        # Your processing logic\n",
    "        result = process_data(input_data)\n",
    "        return result\n",
    "    except Exception as e:\n",
    "        return f\"Error: {str(e)}\"\n",
    "```\n",
    "\n",
    "### 2. Input Validation\n",
    "\n",
    "Validate inputs before processing:\n",
    "\n",
    "```python\n",
    "def validate_and_process(text, number):\n",
    "    if not text or not text.strip():\n",
    "        return \"Please provide valid text input\"\n",
    "    \n",
    "    if number < 0:\n",
    "        return \"Number must be positive\"\n",
    "    \n",
    "    return process_data(text, number)\n",
    "```\n",
    "\n",
    "### 3. Performance Optimization\n",
    "\n",
    "For heavy computations:\n",
    "- Use caching for expensive operations\n",
    "- Implement progress bars for long-running tasks\n",
    "- Consider using `gr.Interface(..., live=True)` for real-time updates\n",
    "\n",
    "### 4. User Experience\n",
    "\n",
    "- Provide clear descriptions and labels\n",
    "- Use examples to guide users\n",
    "- Add helpful titles and descriptions\n",
    "- Consider mobile responsiveness"
   ]
  },
  {
   "cell_type": "markdown",
   "metadata": {},
   "source": [
    "## Challenge: Multi-Feature Data Dashboard\n",
    "\n",
    "Let's create a comprehensive dashboard that combines multiple features:"
   ]
  },
  {
   "cell_type": "code",
   "execution_count": 10,
   "metadata": {},
   "outputs": [
    {
     "name": "stdout",
     "output_type": "stream",
     "text": [
      "* Running on local URL:  http://127.0.0.1:7867\n",
      "* To create a public link, set `share=True` in `launch()`.\n"
     ]
    },
    {
     "data": {
      "text/html": [
       "<div><iframe src=\"http://127.0.0.1:7867/\" width=\"100%\" height=\"500\" allow=\"autoplay; camera; microphone; clipboard-read; clipboard-write;\" frameborder=\"0\" allowfullscreen></iframe></div>"
      ],
      "text/plain": [
       "<IPython.core.display.HTML object>"
      ]
     },
     "metadata": {},
     "output_type": "display_data"
    },
    {
     "data": {
      "text/plain": []
     },
     "execution_count": 10,
     "metadata": {},
     "output_type": "execute_result"
    }
   ],
   "source": [
    "# Load sample data\n",
    "penguins = pd.read_csv('data/penguins.csv')\n",
    "car_crashes = pd.read_csv('data/car_crashes.csv')\n",
    "\n",
    "def create_dashboard(dataset, analysis_type, species_filter=None):\n",
    "    try:\n",
    "        if dataset == \"Penguins\":\n",
    "            data = penguins.copy()\n",
    "            if species_filter and species_filter != \"All\":\n",
    "                data = data[data['species'] == species_filter]\n",
    "        else:\n",
    "            data = car_crashes.copy()\n",
    "        \n",
    "        # Create visualization based on analysis type\n",
    "        plt.figure(figsize=(12, 8))\n",
    "        \n",
    "        if analysis_type == \"Overview\":\n",
    "            # Create subplot with multiple charts\n",
    "            fig, axes = plt.subplots(2, 2, figsize=(15, 10))\n",
    "            \n",
    "            if dataset == \"Penguins\":\n",
    "                # Species distribution\n",
    "                data['species'].value_counts().plot(kind='bar', ax=axes[0,0])\n",
    "                axes[0,0].set_title('Species Distribution')\n",
    "                axes[0,0].tick_params(axis='x', rotation=45)\n",
    "                \n",
    "                # Body mass distribution\n",
    "                data['body_mass_g'].hist(bins=20, ax=axes[0,1])\n",
    "                axes[0,1].set_title('Body Mass Distribution')\n",
    "                \n",
    "                # Correlation heatmap\n",
    "                numeric_cols = data.select_dtypes(include=[np.number]).columns\n",
    "                sns.heatmap(data[numeric_cols].corr(), annot=True, ax=axes[1,0])\n",
    "                axes[1,0].set_title('Correlation Matrix')\n",
    "                \n",
    "                # Scatter plot\n",
    "                sns.scatterplot(data=data, x='bill_length_mm', y='bill_depth_mm', \n",
    "                              hue='species', ax=axes[1,1])\n",
    "                axes[1,1].set_title('Bill Length vs Depth')\n",
    "            \n",
    "            plt.tight_layout()\n",
    "            dashboard_plot = plt.gcf()\n",
    "        \n",
    "        elif analysis_type == \"Statistical Summary\":\n",
    "            # Return statistical summary\n",
    "            summary = data.describe()\n",
    "            dashboard_plot = None\n",
    "        \n",
    "        # Generate insights\n",
    "        insights = f\"\"\"\n",
    "        📊 Dataset: {dataset}\n",
    "        📏 Shape: {data.shape[0]} rows × {data.shape[1]} columns\n",
    "        🔍 Analysis: {analysis_type}\n",
    "        \n",
    "        Key Insights:\n",
    "        • Total records analyzed: {len(data):,}\n",
    "        • Missing values: {data.isnull().sum().sum()}\n",
    "        • Numeric columns: {len(data.select_dtypes(include=[np.number]).columns)}\n",
    "        • Categorical columns: {len(data.select_dtypes(include=[object]).columns)}\n",
    "        \"\"\"\n",
    "        \n",
    "        return insights, dashboard_plot, data.head(10), data.describe()\n",
    "        \n",
    "    except Exception as e:\n",
    "        return f\"Error: {str(e)}\", None, None, None\n",
    "\n",
    "# Create the dashboard interface\n",
    "with gr.Blocks(title=\"Data Science Dashboard\", theme=gr.themes.Soft()) as dashboard:\n",
    "    gr.Markdown(\"# 📊 Interactive Data Science Dashboard\")\n",
    "    gr.Markdown(\"Explore datasets with interactive visualizations and analysis\")\n",
    "    \n",
    "    with gr.Row():\n",
    "        with gr.Column(scale=1):\n",
    "            gr.Markdown(\"### 🎛️ Controls\")\n",
    "            dataset_choice = gr.Radio(\n",
    "                [\"Penguins\", \"Car Crashes\"], \n",
    "                value=\"Penguins\", \n",
    "                label=\"Dataset\"\n",
    "            )\n",
    "            analysis_choice = gr.Radio(\n",
    "                [\"Overview\", \"Statistical Summary\"], \n",
    "                value=\"Overview\", \n",
    "                label=\"Analysis Type\"\n",
    "            )\n",
    "            species_choice = gr.Dropdown(\n",
    "                [\"All\"] + list(penguins['species'].unique()), \n",
    "                value=\"All\", \n",
    "                label=\"Species Filter (Penguins only)\",\n",
    "                visible=True\n",
    "            )\n",
    "            analyze_btn = gr.Button(\"🔍 Analyze Data\", variant=\"primary\")\n",
    "        \n",
    "        with gr.Column(scale=2):\n",
    "            gr.Markdown(\"### 📈 Results\")\n",
    "            insights_output = gr.Textbox(label=\"Insights\", lines=8)\n",
    "            plot_output = gr.Plot(label=\"Visualization\")\n",
    "    \n",
    "    with gr.Row():\n",
    "        data_preview = gr.Dataframe(label=\"Data Preview\")\n",
    "        stats_summary = gr.Dataframe(label=\"Statistical Summary\")\n",
    "    \n",
    "    # Event handlers\n",
    "    def update_species_visibility(dataset):\n",
    "        return gr.update(visible=(dataset == \"Penguins\"))\n",
    "    \n",
    "    dataset_choice.change(\n",
    "        fn=update_species_visibility,\n",
    "        inputs=dataset_choice,\n",
    "        outputs=species_choice\n",
    "    )\n",
    "    \n",
    "    analyze_btn.click(\n",
    "        fn=create_dashboard,\n",
    "        inputs=[dataset_choice, analysis_choice, species_choice],\n",
    "        outputs=[insights_output, plot_output, data_preview, stats_summary]\n",
    "    )\n",
    "    \n",
    "    # Add examples\n",
    "    gr.Examples(\n",
    "        examples=[\n",
    "            [\"Penguins\", \"Overview\", \"Adelie\"],\n",
    "            [\"Penguins\", \"Statistical Summary\", \"All\"],\n",
    "            [\"Car Crashes\", \"Overview\", None]\n",
    "        ],\n",
    "        inputs=[dataset_choice, analysis_choice, species_choice]\n",
    "    )\n",
    "\n",
    "dashboard.launch()"
   ]
  },
  {
   "cell_type": "markdown",
   "metadata": {},
   "source": [
    "## Conclusion\n",
    "\n",
    "Gradio provides a powerful and intuitive way to create web applications from Python functions. Key takeaways:\n",
    "\n",
    "### ✅ Advantages of Gradio:\n",
    "- **Simplicity**: Convert functions to web apps with minimal code\n",
    "- **Rich Components**: Extensive input/output component library\n",
    "- **Flexible Layouts**: Both simple interfaces and custom layouts\n",
    "- **Easy Deployment**: Multiple deployment options including Hugging Face Spaces\n",
    "- **Interactive**: Real-time updates and user interaction\n",
    "- **Shareable**: Built-in sharing capabilities\n",
    "\n",
    "### 🎯 Best Use Cases:\n",
    "- Machine learning model demos\n",
    "- Data analysis and visualization tools\n",
    "- Image/audio processing applications\n",
    "- Educational demonstrations\n",
    "- Quick prototypes and proof-of-concepts\n",
    "- API testing interfaces\n",
    "\n",
    "### 🚀 Next Steps:\n",
    "1. Practice with the examples in this notebook\n",
    "2. Try deploying your apps to Hugging Face Spaces\n",
    "3. Explore advanced features like custom CSS and JavaScript\n",
    "4. Build applications for your specific use cases\n",
    "5. Share your work with the community\n",
    "\n",
    "### 📚 Additional Resources:\n",
    "- [Official Gradio Documentation](https://gradio.app/docs/)\n",
    "- [Gradio GitHub Repository](https://github.com/gradio-app/gradio)\n",
    "- [Hugging Face Spaces](https://huggingface.co/spaces)\n",
    "- [Gradio Community Examples](https://huggingface.co/spaces?search=gradio)\n",
    "\n",
    "Happy building! 🎉"
   ]
  }
 ],
 "metadata": {
  "kernelspec": {
   "display_name": "Python 3 (ipykernel)",
   "language": "python",
   "name": "python3"
  },
  "language_info": {
   "codemirror_mode": {
    "name": "ipython",
    "version": 3
   },
   "file_extension": ".py",
   "mimetype": "text/x-python",
   "name": "python",
   "nbconvert_exporter": "python",
   "pygments_lexer": "ipython3",
   "version": "3.13.3"
  }
 },
 "nbformat": 4,
 "nbformat_minor": 4
}
