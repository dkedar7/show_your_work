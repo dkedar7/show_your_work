{
 "cells": [
  {
   "cell_type": "markdown",
   "id": "7f0f1391-a1e1-494e-9911-495990d09d71",
   "metadata": {
    "panel-layout": {
     "height": 50.8203125,
     "visible": true,
     "width": 100
    }
   },
   "source": [
    "## Jupyter notebooks"
   ]
  },
  {
   "cell_type": "markdown",
   "id": "bad4e04a-5204-444c-b3cd-fb5a708e9a25",
   "metadata": {},
   "source": [
    "Documentation: https://docs.jupyter.org/en/latest/"
   ]
  },
  {
   "cell_type": "markdown",
   "id": "c4b22695-64f4-42c0-8db4-96ca08ce9e20",
   "metadata": {},
   "source": [
    "Jupyter notebooks may easily be the most deployed type of web application in Python!\n",
    "\n",
    "<img src=\"https://jupyter.org/assets/homepage/main-logo.svg\" alt=\"Jupyter Logo\" width=\"200\"/>"
   ]
  },
  {
   "cell_type": "markdown",
   "id": "66428e3f-903d-4652-8037-32a43ebc72bf",
   "metadata": {
    "vscode": {
     "languageId": "markdown"
    }
   },
   "source": [
    "Jupyter notebooks support two main types of cells:\n",
    "\n",
    "- **Code Cells**: Used to write and execute code (e.g., Python, R). The output appears directly below the cell.\n",
    "- **Markdown Cells**: Used for formatted text, documentation, equations (LaTeX), images, and links.\n",
    "- **Raw Cells**: Contain plain text that is not executed or rendered as Markdown. Useful for notes, instructions, or content to be processed by external tools.\n",
    "\n",
    "You can switch between cell types using the toolbar or keyboard shortcuts."
   ]
  },
  {
   "cell_type": "markdown",
   "id": "049d98ca-daeb-49d4-9b0d-a964c3bd531f",
   "metadata": {
    "vscode": {
     "languageId": "markdown"
    }
   },
   "source": [
    "#### Jupyter Server and Kernel\n",
    "\n",
    "- **Jupyter Server**: The Jupyter server is the backend application that manages your notebooks, files, and computational resources. It provides the web interface, handles requests from your browser, and communicates with kernels to execute code. When you start Jupyter Notebook or JupyterLab, you are launching a Jupyter server.\n",
    "\n",
    "- **Kernel**: A kernel is a separate process that runs and executes your code. Each notebook is connected to a kernel, which can be for different programming languages (e.g., Python, R, Julia). The kernel receives code from the notebook interface, executes it, and returns the output (results, plots, errors) back to the notebook.\n",
    "\n",
    "**How they work together:**  \n",
    "When you run a code cell in a notebook, the Jupyter server sends the code to the kernel. The kernel executes the code and sends the output back to the server, which then displays it in your browser."
   ]
  },
  {
   "cell_type": "code",
   "execution_count": null,
   "id": "ecb2d63b-b53c-4302-baf5-a4f900056b4e",
   "metadata": {},
   "outputs": [],
   "source": [
    "import pandas as pd\n",
    "import matplotlib.pyplot as plt\n",
    "import seaborn as sns\n",
    "import plotly.express as px"
   ]
  },
  {
   "cell_type": "code",
   "execution_count": null,
   "id": "a5751756",
   "metadata": {},
   "outputs": [],
   "source": []
  },
  {
   "cell_type": "markdown",
   "id": "958ff6dd",
   "metadata": {},
   "source": [
    "#### Understanding the available datasets"
   ]
  },
  {
   "cell_type": "markdown",
   "id": "f8c65b47",
   "metadata": {},
   "source": [
    "#### 1. Penguins datset\n",
    "\n",
    "- The penguins dataset contains measurements for three species of penguins (Adelie, Chinstrap, Gentoo) observed on different islands in the Palmer Archipelago, Antarctica.\n",
    "- It includes features such as bill length and depth, flipper length, body mass, sex, and species.\n",
    "- This dataset is commonly used for data visualization and machine learning exercises as an alternative to the classic iris dataset.\n",
    "- It provides a real-world example for exploring classification, visualization, and data cleaning techniques."
   ]
  },
  {
   "cell_type": "code",
   "execution_count": null,
   "id": "7c4c2afc-7d9d-4249-b107-46cb56d70e5b",
   "metadata": {},
   "outputs": [],
   "source": [
    "penguins_df = pd.read_csv('data/penguins.csv')"
   ]
  },
  {
   "cell_type": "code",
   "execution_count": null,
   "id": "135ecbd5",
   "metadata": {},
   "outputs": [],
   "source": [
    "penguins_df.head()"
   ]
  },
  {
   "cell_type": "code",
   "execution_count": null,
   "id": "e43a41f8-0ddf-4446-b77d-4c94e20ec51d",
   "metadata": {},
   "outputs": [],
   "source": []
  },
  {
   "cell_type": "markdown",
   "id": "2741ccd9",
   "metadata": {
    "vscode": {
     "languageId": "markdown"
    }
   },
   "source": [
    "#### 2. Car Crashes Dataset\n",
    "\n",
    "- The car crashes dataset contains data on traffic accidents, including the number of crashes, injuries, and fatalities by state or region.\n",
    "- It typically includes features such as total crashes, alcohol-involved crashes, speeding-related crashes, and population statistics.\n",
    "- This dataset is widely used for data visualization, exploratory data analysis, and statistical modeling to understand factors contributing to road accidents.\n",
    "- It provides a practical example for learning about correlation, regression, and geospatial analysis in Python."
   ]
  },
  {
   "cell_type": "code",
   "execution_count": null,
   "id": "a873b7d1",
   "metadata": {},
   "outputs": [],
   "source": [
    "# Load and explore the penguins dataset\n",
    "car_crashes = pd.read_csv('data/car_crashes.csv')\n",
    "\n",
    "car_crashes.head(10)"
   ]
  },
  {
   "cell_type": "code",
   "execution_count": null,
   "id": "22968393",
   "metadata": {},
   "outputs": [],
   "source": []
  },
  {
   "cell_type": "markdown",
   "id": "c3971538",
   "metadata": {},
   "source": [
    "#### 3. Chlorophyll Concentration Analysis"
   ]
  },
  {
   "cell_type": "markdown",
   "id": "235eef18",
   "metadata": {},
   "source": [
    "The `data/chla_subset.csv` dataset contains chlorophyll-a (chla) predictions for various water bodies, such as lakes and reservoirs. Each row represents a measurement event, including the following columns:\n",
    "\n",
    "- `gnis_name`: Name of the water body (e.g., \"Pepacton Reservoir\", \"Lake Montauk\").\n",
    "- `comid`: Unique identifier for the water body.\n",
    "- `centroid_longitude` and `centroid_latitude`: Geographic coordinates of the water body's centroid.\n",
    "- `date_acquired`: Date when the measurement or prediction was made.\n",
    "- `predictions`: Predicted chlorophyll-a concentration (likely in µg/L).\n",
    "\n",
    "This dataset is useful for analyzing spatial and temporal patterns of chlorophyll-a, which is an important indicator of water quality and algal biomass."
   ]
  },
  {
   "cell_type": "code",
   "execution_count": null,
   "id": "8d138dba",
   "metadata": {},
   "outputs": [],
   "source": [
    "# Load and describe the chla dataset\n",
    "chla = pd.read_csv('data/chla_subset.csv')\n",
    "chla['date_acquired'] = pd.to_datetime(chla['date_acquired'])\n",
    "\n",
    "# Show the first few rows\n",
    "display(chla.head())"
   ]
  },
  {
   "cell_type": "code",
   "execution_count": null,
   "id": "6d9f9641-37e3-4aa4-845c-dd752cee7d5f",
   "metadata": {},
   "outputs": [],
   "source": []
  },
  {
   "cell_type": "markdown",
   "id": "75c18dd3-c550-4e78-b8f6-31263666f848",
   "metadata": {},
   "source": [
    "### 4. Any other dataset of your choice"
   ]
  },
  {
   "cell_type": "markdown",
   "id": "cce71a7e-d7df-4d91-bf49-92565ef7cb45",
   "metadata": {},
   "source": [
    "Here're some Seaborn datasets for inspiration: https://github.com/mwaskom/seaborn-data"
   ]
  },
  {
   "cell_type": "code",
   "execution_count": null,
   "id": "486b936e-149b-4ad7-b178-0438ab78c1a1",
   "metadata": {},
   "outputs": [],
   "source": []
  },
  {
   "cell_type": "markdown",
   "id": "59b07fcf-b3c9-4d92-8d1d-6c2405e09ee4",
   "metadata": {},
   "source": [
    "## Exercise!\n",
    "\n",
    "#### Objective: Create some data visualizations that we can reuse for the rest of the tutorial."
   ]
  },
  {
   "cell_type": "markdown",
   "id": "df70d1f2-b330-4c87-ac1d-92b6990e8d45",
   "metadata": {
    "jp-MarkdownHeadingCollapsed": true
   },
   "source": [
    "### If you selected the `Penguins` dataset"
   ]
  },
  {
   "cell_type": "markdown",
   "id": "80a4de3e-2cad-4ff5-8ca0-7a0f8fb3f28b",
   "metadata": {},
   "source": [
    "#### 1. Create a bar chart showing how many penguins of each species are in the dataset.\n",
    "Hint: plt.bar(), sns.countplot() or px.bar()."
   ]
  },
  {
   "cell_type": "code",
   "execution_count": null,
   "id": "dbbfdaa5-0a8b-4385-a1e1-a109ec2618ad",
   "metadata": {},
   "outputs": [],
   "source": []
  },
  {
   "cell_type": "markdown",
   "id": "9288448b-4927-4c74-b0ca-3065436c6e1f",
   "metadata": {},
   "source": [
    "#### 2. Make a histogram of penguin body weights to see the distribution.\n",
    "Hint: plt.hist(), sns.histplot() or px.histogram()."
   ]
  },
  {
   "cell_type": "code",
   "execution_count": null,
   "id": "6e22023a-d87f-4eea-aff9-baa2b751b3c6",
   "metadata": {},
   "outputs": [],
   "source": []
  },
  {
   "cell_type": "markdown",
   "id": "985ac505-7fab-4567-9b63-7acb02d0d87a",
   "metadata": {},
   "source": [
    "#### 3. Create a scatter plot comparing bill length vs bill depth, with different colors for each species.\n",
    "Hint: plt.scatter(), sns.scatterplot() or px.scatter()."
   ]
  },
  {
   "cell_type": "code",
   "execution_count": null,
   "id": "5e10c7f1-4441-4ae5-8838-561eb4dfcf27",
   "metadata": {},
   "outputs": [],
   "source": []
  },
  {
   "cell_type": "markdown",
   "id": "ef23df27-859f-4fe8-b859-012285b29eb5",
   "metadata": {},
   "source": [
    "#### 4. Make a box plot showing flipper length for each penguin species.\n",
    "Hint: plt.boxplot(), sns.boxplot() or px.box()."
   ]
  },
  {
   "cell_type": "code",
   "execution_count": null,
   "id": "de6720f1-c60d-457b-b233-a50fc44a5334",
   "metadata": {},
   "outputs": [],
   "source": []
  },
  {
   "cell_type": "markdown",
   "id": "0fd99fdb-ea88-423b-8ac9-1726b9d86f42",
   "metadata": {},
   "source": [
    "#### 5. Create a line plot showing the average body mass for each species across different islands.\n",
    "Hint: plt.plot(), sns.lineplot() or px.line()."
   ]
  },
  {
   "cell_type": "code",
   "execution_count": null,
   "id": "59e3f5b8-0235-4e4f-8771-9881323cf62d",
   "metadata": {},
   "outputs": [],
   "source": []
  },
  {
   "cell_type": "markdown",
   "id": "bbe95b73-c006-4726-a728-bd85f5f069b5",
   "metadata": {
    "jp-MarkdownHeadingCollapsed": true
   },
   "source": [
    "### If you selected the `crashes` dataset"
   ]
  },
  {
   "cell_type": "markdown",
   "id": "eb029ac6-b2ec-4314-b0c6-c400be488a1d",
   "metadata": {},
   "source": [
    "#### 1. Create a bar chart showing the total number of car crashes by state.\n",
    "Hint: plt.bar(), sns.barplot() or px.bar()."
   ]
  },
  {
   "cell_type": "code",
   "execution_count": null,
   "id": "97ef2f73-2b80-44d4-bbf1-b85c430b64d2",
   "metadata": {},
   "outputs": [],
   "source": []
  },
  {
   "cell_type": "markdown",
   "id": "c328f6bf-c138-4438-86bb-7271f5d67920",
   "metadata": {},
   "source": [
    "#### 2. Make a histogram of insurance premiums to see the distribution across states.\n",
    "Hint: plt.hist(), sns.histplot() or px.histogram()."
   ]
  },
  {
   "cell_type": "code",
   "execution_count": null,
   "id": "b60149a3-8647-4cfa-ab45-cab19691dd13",
   "metadata": {},
   "outputs": [],
   "source": []
  },
  {
   "cell_type": "markdown",
   "id": "4796f3cc-ca28-449f-b079-2a6fdcba4a82",
   "metadata": {},
   "source": [
    "#### 3. Create a scatter plot comparing total crashes vs speeding-related crashes, with state abbreviations as labels.\n",
    "Hint: plt.scatter(), sns.scatterplot() or px.scatter()."
   ]
  },
  {
   "cell_type": "code",
   "execution_count": null,
   "id": "ceef2d7c-f694-4c66-be1d-2dc0705058ea",
   "metadata": {},
   "outputs": [],
   "source": []
  },
  {
   "cell_type": "markdown",
   "id": "65c0e105-c55d-4b76-8cd9-a7012b1abdbd",
   "metadata": {},
   "source": [
    "#### 4. Make a box plot showing the distribution of alcohol-related crashes.\n",
    "Hint: plt.boxplot(), sns.boxplot() or px.box()."
   ]
  },
  {
   "cell_type": "code",
   "execution_count": null,
   "id": "5c8f37bc-5ba0-4c1a-be99-982eae56dc92",
   "metadata": {},
   "outputs": [],
   "source": []
  },
  {
   "cell_type": "markdown",
   "id": "9ad97788-67ff-48bd-a23a-a6978e288c8d",
   "metadata": {},
   "source": [
    "#### 5. Create a bar chart comparing insurance premiums vs insurance losses by state.\n",
    "Hint: plt.bar(), sns.barplot() or px.bar()."
   ]
  },
  {
   "cell_type": "code",
   "execution_count": null,
   "id": "b2c7d144-4e4c-491c-b6f8-1afe4e904984",
   "metadata": {},
   "outputs": [],
   "source": []
  },
  {
   "cell_type": "markdown",
   "id": "ad65f662-5686-4f2f-9d8e-6973eb1d0435",
   "metadata": {
    "jp-MarkdownHeadingCollapsed": true
   },
   "source": [
    "### If you selected the `chlorophyll` dataset"
   ]
  },
  {
   "cell_type": "markdown",
   "id": "15a151da-8e6e-4f9d-bce1-ec2c5f326a59",
   "metadata": {},
   "source": [
    "#### 1. Create a histogram of chlorophyll-a predictions to see the distribution of concentration levels.\n",
    "Hint: plt.hist(), sns.histplot() or px.histogram()."
   ]
  },
  {
   "cell_type": "code",
   "execution_count": null,
   "id": "12e153f5-f0be-475f-927c-1e010246a169",
   "metadata": {},
   "outputs": [],
   "source": []
  },
  {
   "cell_type": "markdown",
   "id": "3ec74fa0-68ca-4a3c-8e47-4f2ac0f5b575",
   "metadata": {},
   "source": [
    "#### 2. Make a scatter plot showing the geographic distribution of water bodies using longitude and latitude coordinates.\n",
    "Hint: plt.scatter(), sns.scatterplot() or px.scatter()."
   ]
  },
  {
   "cell_type": "code",
   "execution_count": null,
   "id": "a0a81955-1243-4202-a914-de08d690a966",
   "metadata": {},
   "outputs": [],
   "source": []
  },
  {
   "cell_type": "markdown",
   "id": "19aaf437-39d0-4314-af0a-1f24092ef434",
   "metadata": {},
   "source": [
    "#### 3. Create a line plot showing how chlorophyll-a predictions change over time (by date_acquired).\n",
    "Hint: plt.plot(), sns.lineplot() or px.line()."
   ]
  },
  {
   "cell_type": "code",
   "execution_count": null,
   "id": "28326a96-c507-45a0-bf7d-3ac0c92af7f1",
   "metadata": {},
   "outputs": [],
   "source": []
  },
  {
   "cell_type": "markdown",
   "id": "f9bcb2dd-2725-46a7-8b3d-7618345815c8",
   "metadata": {},
   "source": [
    "#### 4. Make a box plot comparing chlorophyll-a predictions across different water bodies (top 10 most frequent).\n",
    "Hint: plt.boxplot(), sns.boxplot() or px.box()."
   ]
  },
  {
   "cell_type": "code",
   "execution_count": null,
   "id": "adb44df5-591c-4167-a8bf-56704b0d86c0",
   "metadata": {},
   "outputs": [],
   "source": []
  },
  {
   "cell_type": "markdown",
   "id": "a9fb8047-d796-4ec9-9599-f357a68d5339",
   "metadata": {},
   "source": [
    "#### 5. Create a scatter plot comparing longitude vs chlorophyll-a predictions, with different colors for different concentration ranges.\n",
    "Hint: plt.scatter(), sns.scatterplot() or px.scatter()."
   ]
  },
  {
   "cell_type": "markdown",
   "id": "e78580be-8487-4d36-92e9-92f1988f413a",
   "metadata": {},
   "source": []
  },
  {
   "cell_type": "markdown",
   "id": "90955b56-3ee7-4c42-b90d-b96a5d717e4d",
   "metadata": {
    "jp-MarkdownHeadingCollapsed": true
   },
   "source": [
    "### If you selected a different dataset"
   ]
  },
  {
   "cell_type": "markdown",
   "id": "2d73dd91-d738-468f-94e3-d63284dba030",
   "metadata": {},
   "source": [
    "- What are the 5 most important insights we can get from this?"
   ]
  },
  {
   "cell_type": "code",
   "execution_count": null,
   "id": "7c12b3f7-2730-4696-b9cc-463c461e26ac",
   "metadata": {},
   "outputs": [],
   "source": []
  }
 ],
 "metadata": {
  "kernelspec": {
   "display_name": "showyourwork",
   "language": "python",
   "name": "showyourwork"
  },
  "language_info": {
   "codemirror_mode": {
    "name": "ipython",
    "version": 3
   },
   "file_extension": ".py",
   "mimetype": "text/x-python",
   "name": "python",
   "nbconvert_exporter": "python",
   "pygments_lexer": "ipython3",
   "version": "3.13.3"
  },
  "panel-cell-order": [
   "7f0f1391-a1e1-494e-9911-495990d09d71",
   "07adf396-ba3a-417f-9cf7-912498d8803d",
   "0689046b-e327-4c73-965a-4c63af8af2e1"
  ]
 },
 "nbformat": 4,
 "nbformat_minor": 5
}
